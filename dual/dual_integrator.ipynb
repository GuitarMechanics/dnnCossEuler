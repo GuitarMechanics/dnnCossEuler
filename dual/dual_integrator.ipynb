{
 "cells": [
  {
   "cell_type": "code",
   "execution_count": null,
   "metadata": {},
   "outputs": [],
   "source": [
    "import sympy as sp\n",
    "thp, thd, tp, td, lp, ld, alp, r, s = sp.symbols(r'\\theta_p \\theta_d t_p t_d l_p l_d \\alpha r s')\n"
   ]
  },
  {
   "cell_type": "code",
   "execution_count": null,
   "metadata": {},
   "outputs": [],
   "source": [
    "kda = td / (ld * r)\n",
    "kd1 = alp * kda"
   ]
  },
  {
   "cell_type": "code",
   "execution_count": null,
   "metadata": {},
   "outputs": [],
   "source": [
    "kd = 2 * (kda - kd1) * s / ld + kd1\n",
    "display(sp.simplify(kd))"
   ]
  },
  {
   "cell_type": "code",
   "execution_count": null,
   "metadata": {},
   "outputs": [],
   "source": [
    "thdint = sp.integrate(kd, (s, lp, ld))\n",
    "display(sp.simplify(thdint))"
   ]
  },
  {
   "cell_type": "code",
   "execution_count": null,
   "metadata": {},
   "outputs": [],
   "source": [
    "thdeqn = thdint - thd\n",
    "tdsol = sp.solve(thdeqn, td)[0]\n",
    "display(tdsol)"
   ]
  },
  {
   "cell_type": "code",
   "execution_count": null,
   "metadata": {},
   "outputs": [],
   "source": [
    "kpa = tp / (lp * r)\n",
    "kp1 = alp * kpa\n",
    "kp = 2 * (kpa - kp1) * s / lp\n",
    "\n",
    "kptot = kd + kp\n",
    "display(sp.simplify(kptot))"
   ]
  },
  {
   "cell_type": "code",
   "execution_count": null,
   "metadata": {},
   "outputs": [],
   "source": [
    "kpint = sp.integrate(kptot, (s, 0, lp))\n",
    "display(sp.simplify(kpint))\n",
    "\n",
    "thpeqn = kpint - thp\n",
    "tpsol = sp.solve(thpeqn, tp)[0]\n",
    "display(tpsol)\n",
    "\n",
    "## to be cont'd"
   ]
  },
  {
   "cell_type": "code",
   "execution_count": null,
   "metadata": {},
   "outputs": [],
   "source": []
  }
 ],
 "metadata": {
  "kernelspec": {
   "display_name": "Python 3",
   "language": "python",
   "name": "python3"
  },
  "language_info": {
   "codemirror_mode": {
    "name": "ipython",
    "version": 3
   },
   "file_extension": ".py",
   "mimetype": "text/x-python",
   "name": "python",
   "nbconvert_exporter": "python",
   "pygments_lexer": "ipython3",
   "version": "3.11.9"
  }
 },
 "nbformat": 4,
 "nbformat_minor": 2
}
