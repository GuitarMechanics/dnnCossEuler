{
 "cells": [
  {
   "cell_type": "code",
   "execution_count": 13,
   "id": "74559644",
   "metadata": {},
   "outputs": [
    {
     "data": {
      "text/latex": [
       "$\\displaystyle \\frac{\\alpha t_{d}}{l_{d} r} + \\frac{s \\left(- \\frac{2 \\alpha t_{d}}{l_{d} r} + \\frac{2 t_{d}}{l_{d} r}\\right)}{l_{d}}$"
      ],
      "text/plain": [
       "\\alpha*t_d/(l_d*r) + s*(-2*\\alpha*t_d/(l_d*r) + 2*t_d/(l_d*r))/l_d"
      ]
     },
     "metadata": {},
     "output_type": "display_data"
    }
   ],
   "source": [
    "import sympy as sp\n",
    "import numpy as np\n",
    "thp, thd, tp, td, lp, ld, alp, r, s = sp.symbols(r'\\theta_p \\theta_d t_p t_d l_p l_d \\alpha r s', real = True)\n",
    "kda = td / (ld * r)\n",
    "kd1 = alp * kda\n",
    "kd = 2 * (kda - kd1) * s / ld + kd1\n",
    "display(kd)"
   ]
  },
  {
   "cell_type": "code",
   "execution_count": 14,
   "id": "44a38ffa",
   "metadata": {},
   "outputs": [
    {
     "data": {
      "text/latex": [
       "$\\displaystyle \\frac{l_{p} t_{d} \\left(\\alpha l_{d} - l_{p} \\left(\\alpha - 1\\right)\\right)}{l_{d}^{2}}$"
      ],
      "text/plain": [
       "l_p*t_d*(\\alpha*l_d - l_p*(\\alpha - 1))/l_d**2"
      ]
     },
     "metadata": {},
     "output_type": "display_data"
    }
   ],
   "source": [
    "with sp.assuming(sp.Q.nonzero(ld)):\n",
    "    dp = sp.integrate(r * kd, (s, 0, lp))\n",
    "display(sp.simplify(dp))"
   ]
  },
  {
   "cell_type": "markdown",
   "id": "b96b684c",
   "metadata": {},
   "source": [
    "프록시말텐던 중립상태에서 디스털만 구동 -- 프록시말 부분에서는 유효곡률은 그냥 곡률의 1/2 (r -> 2r)이 되는 효과\n",
    "\n",
    "아니면 컴프레션 무시하는것도 좋을듯 그냥 dp만큼 줄고 늘었으니 dp만큼 카운터치면 되는거아님? >> 이러면 프록시말 길이변동은 없음"
   ]
  },
  {
   "cell_type": "code",
   "execution_count": 15,
   "id": "ac95038c",
   "metadata": {},
   "outputs": [],
   "source": [
    "dpnew = dp / 2"
   ]
  },
  {
   "cell_type": "code",
   "execution_count": null,
   "id": "d2a3f2fe",
   "metadata": {},
   "outputs": [],
   "source": [
    "# 회전행렬 테스트\n",
    "mat = np.array([1,0])\n",
    "theta = np.pi / 2\n",
    "rot = np.array([[np.cos(theta), -np.sin(theta)],\n",
    "                [np.sin(theta), np.cos(theta)]])\n",
    "rotval = rot @ mat\n",
    "display(rotval)"
   ]
  }
 ],
 "metadata": {
  "kernelspec": {
   "display_name": ".venv",
   "language": "python",
   "name": "python3"
  },
  "language_info": {
   "codemirror_mode": {
    "name": "ipython",
    "version": 3
   },
   "file_extension": ".py",
   "mimetype": "text/x-python",
   "name": "python",
   "nbconvert_exporter": "python",
   "pygments_lexer": "ipython3",
   "version": "3.10.12"
  }
 },
 "nbformat": 4,
 "nbformat_minor": 5
}
