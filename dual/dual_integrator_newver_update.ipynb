{
 "cells": [
  {
   "cell_type": "code",
   "execution_count": 1,
   "id": "74559644",
   "metadata": {},
   "outputs": [
    {
     "data": {
      "text/latex": [
       "$\\displaystyle \\frac{\\alpha t_{d}}{l_{d} r} + \\frac{s \\left(- \\frac{2 \\alpha t_{d}}{l_{d} r} + \\frac{2 t_{d}}{l_{d} r}\\right)}{l_{d}}$"
      ],
      "text/plain": [
       "\\alpha*t_d/(l_d*r) + s*(-2*\\alpha*t_d/(l_d*r) + 2*t_d/(l_d*r))/l_d"
      ]
     },
     "metadata": {},
     "output_type": "display_data"
    }
   ],
   "source": [
    "import sympy as sp\n",
    "import numpy as np\n",
    "thp, thd, tp, td, lp, ld, alp, r, s = sp.symbols(r'\\theta_p \\theta_d t_p t_d l_p l_d \\alpha r s', real = True)\n",
    "kda = td / (ld * r)\n",
    "kd1 = alp * kda\n",
    "kd = 2 * (kda - kd1) * s / ld + kd1\n",
    "display(kd)"
   ]
  },
  {
   "cell_type": "code",
   "execution_count": 2,
   "id": "44a38ffa",
   "metadata": {},
   "outputs": [
    {
     "data": {
      "text/latex": [
       "$\\displaystyle \\frac{l_{p} t_{d} \\left(\\alpha l_{d} - l_{p} \\left(\\alpha - 1\\right)\\right)}{l_{d}^{2}}$"
      ],
      "text/plain": [
       "l_p*t_d*(\\alpha*l_d - l_p*(\\alpha - 1))/l_d**2"
      ]
     },
     "metadata": {},
     "output_type": "display_data"
    }
   ],
   "source": [
    "with sp.assuming(sp.Q.nonzero(ld)):\n",
    "    dp = sp.integrate(r * kd, (s, 0, lp))\n",
    "display(sp.simplify(dp))"
   ]
  },
  {
   "cell_type": "markdown",
   "id": "b96b684c",
   "metadata": {},
   "source": [
    "프록시말텐던 중립상태에서 디스털만 구동 -- 프록시말 부분에서는 유효곡률은 그냥 곡률의 1/2 (r -> 2r)이 되는 효과\n",
    "\n",
    "아니면 컴프레션 무시하는것도 좋을듯 그냥 dp만큼 줄고 늘었으니 dp만큼 카운터치면 되는거아님? >> 이러면 프록시말 길이변동은 없음"
   ]
  },
  {
   "cell_type": "code",
   "execution_count": 3,
   "id": "ac95038c",
   "metadata": {},
   "outputs": [],
   "source": [
    "dpnew = dp / 2"
   ]
  },
  {
   "cell_type": "code",
   "execution_count": 4,
   "id": "d2a3f2fe",
   "metadata": {},
   "outputs": [
    {
     "data": {
      "text/plain": [
       "array([6.123234e-17, 1.000000e+00])"
      ]
     },
     "metadata": {},
     "output_type": "display_data"
    }
   ],
   "source": [
    "# 회전행렬 테스트\n",
    "mat = np.array([1,0])\n",
    "theta = np.pi / 2\n",
    "rot = np.array([[np.cos(theta), -np.sin(theta)],\n",
    "                [np.sin(theta), np.cos(theta)]])\n",
    "rotval = rot @ mat\n",
    "display(rotval)"
   ]
  },
  {
   "cell_type": "markdown",
   "id": "68700071",
   "metadata": {},
   "source": [
    "기존 듀얼벤딩 식을 재구성하면 어케되는가?\n",
    "dp대신 lcst 사용\n",
    "평면만 따질 것이므로 방향은 2개만 따지면 된다\n",
    "\n",
    "teuler에서는 t_eq로 쓰긴 했는데 실질적으로 얘만 굽힘 형성에 관여하게 되므로 유효구동량으로 표현을 바꾸는 것도 좋은듯하다"
   ]
  },
  {
   "cell_type": "code",
   "execution_count": 5,
   "id": "b6c140c9",
   "metadata": {},
   "outputs": [
    {
     "data": {
      "text/latex": [
       "$\\displaystyle l_{p} + t_{p} \\operatorname{sign}{\\left(t_{d} \\right)} \\operatorname{sign}{\\left(t_{p} \\right)}$"
      ],
      "text/plain": [
       "l_p + t_p*sign(t_d)*sign(t_p)"
      ]
     },
     "metadata": {},
     "output_type": "display_data"
    }
   ],
   "source": [
    "lcst = lp + tp * (sp.sign(tp)*sp.sign(td))\n",
    "display(lcst)"
   ]
  },
  {
   "cell_type": "markdown",
   "id": "f7be8b30",
   "metadata": {},
   "source": [
    "논문꺼드럭용 일반화"
   ]
  },
  {
   "cell_type": "code",
   "execution_count": 6,
   "id": "71554c6b",
   "metadata": {},
   "outputs": [
    {
     "data": {
      "text/latex": [
       "$\\displaystyle \\Delta t_{d,eff} + \\Delta t_{p,eff} + \\phi_{d,eff} + \\phi_{p,eff}$"
      ],
      "text/plain": [
       "\\Delta t_{d,eff} + \\Delta t_{p,eff} + \\phi_{d,eff} + \\phi_{p,eff}"
      ]
     },
     "metadata": {},
     "output_type": "display_data"
    }
   ],
   "source": [
    "tpeff = sp.Symbol(r'\\Delta t_{p,eff}', real=True)\n",
    "tdeff = sp.Symbol(r'\\Delta t_{d,eff}', real=True)\n",
    "phip = sp.Symbol(r'\\phi_{p,eff}', real=True)\n",
    "phid = sp.Symbol(r'\\phi_{d,eff}', real=True)\n",
    "display(tpeff + tdeff + phip + phid)"
   ]
  },
  {
   "cell_type": "code",
   "execution_count": 17,
   "id": "0c35e718",
   "metadata": {},
   "outputs": [
    {
     "data": {
      "text/latex": [
       "$\\displaystyle \\frac{\\Delta t_{d,eff} \\alpha}{l_{d} r} + \\frac{s \\left(- \\frac{2 \\Delta t_{d,eff} \\alpha}{l_{d} r} + \\frac{2 \\Delta t_{d,eff}}{l_{d} r}\\right)}{l_{d}}$"
      ],
      "text/plain": [
       "\\Delta t_{d,eff}*\\alpha/(l_d*r) + s*(-2*\\Delta t_{d,eff}*\\alpha/(l_d*r) + 2*\\Delta t_{d,eff}/(l_d*r))/l_d"
      ]
     },
     "metadata": {},
     "output_type": "display_data"
    },
    {
     "data": {
      "text/latex": [
       "$\\displaystyle \\frac{\\Delta t_{d,eff} \\left(\\alpha l_{d} - 2 s \\left(\\alpha - 1\\right)\\right)}{l_{d}^{2} r}$"
      ],
      "text/plain": [
       "\\Delta t_{d,eff}*(\\alpha*l_d - 2*s*(\\alpha - 1))/(l_d**2*r)"
      ]
     },
     "metadata": {},
     "output_type": "display_data"
    },
    {
     "name": "stdout",
     "output_type": "stream",
     "text": [
      "\\frac{\\Delta t_{d,eff} \\left(\\alpha l_{d} - 2 s \\left(\\alpha - 1\\right)\\right)}{l_{d}^{2} r}\n"
     ]
    },
    {
     "data": {
      "text/latex": [
       "$\\displaystyle \\frac{\\Delta t_{d,eff} \\alpha \\left(\\Delta t_{p,eff} c_{\\phi} + l_{p}\\right)}{2 l_{d}} + \\frac{\\left(- \\Delta t_{d,eff} \\alpha + \\Delta t_{d,eff}\\right) \\left(\\Delta t_{p,eff} c_{\\phi} + l_{p}\\right)^{2}}{2 l_{d}^{2}}$"
      ],
      "text/plain": [
       "\\Delta t_{d,eff}*\\alpha*(\\Delta t_{p,eff}*c_{\\phi} + l_p)/(2*l_d) + (-\\Delta t_{d,eff}*\\alpha + \\Delta t_{d,eff})*(\\Delta t_{p,eff}*c_{\\phi} + l_p)**2/(2*l_d**2)"
      ]
     },
     "metadata": {},
     "output_type": "display_data"
    },
    {
     "data": {
      "text/latex": [
       "$\\displaystyle \\frac{\\Delta t_{d,eff} \\alpha l_{cst}}{2 l_{d}} + \\frac{l_{cst}^{2} \\left(- \\Delta t_{d,eff} \\alpha + \\Delta t_{d,eff}\\right)}{2 l_{d}^{2}}$"
      ],
      "text/plain": [
       "\\Delta t_{d,eff}*\\alpha*l_{cst}/(2*l_d) + l_{cst}**2*(-\\Delta t_{d,eff}*\\alpha + \\Delta t_{d,eff})/(2*l_d**2)"
      ]
     },
     "metadata": {},
     "output_type": "display_data"
    },
    {
     "name": "stdout",
     "output_type": "stream",
     "text": [
      "\\Delta t_{p,eff} c_{\\phi} + l_{p}\n",
      "\\frac{\\Delta t_{d,eff} \\left(\\alpha l_{d} - 2 s \\left(\\alpha - 1\\right)\\right)}{l_{d}^{2} r}\n",
      "\\frac{\\Delta t_{d,eff} \\alpha l_{cst}}{2 l_{d}} + \\frac{l_{cst}^{2} \\left(- \\Delta t_{d,eff} \\alpha + \\Delta t_{d,eff}\\right)}{2 l_{d}^{2}}\n"
     ]
    }
   ],
   "source": [
    "lcstraw = lp + tpeff * sp.cos(phip - phid)\n",
    "cossym = sp.Symbol(r'c_{\\phi}')\n",
    "lcst = lp + tpeff * cossym\n",
    "kda2 = tdeff / (ld * r)\n",
    "kd12 = kda2 * alp\n",
    "kd2 = 2 * (kda2 - kd12) * s / ld + kd12\n",
    "display(kd2)\n",
    "display(sp.simplify(kd2))\n",
    "print(sp.latex(sp.simplify(kd2)))\n",
    "lcstsym = sp.Symbol(r'l_{cst}')\n",
    "with sp.assuming(sp.Q.nonzero(ld)):\n",
    "    dpnew = sp.integrate(r * kd2 / 2, (s, 0, lcst))\n",
    "    dpnew_lcstsym = sp.integrate(r * kd2 / 2, (s, 0, lcstsym))\n",
    "display(dpnew)\n",
    "display(dpnew_lcstsym)\n",
    "print(sp.latex(lcst))\n",
    "print(sp.latex(sp.simplify(kd2)))\n",
    "print(sp.latex(dpnew_lcstsym))"
   ]
  },
  {
   "cell_type": "code",
   "execution_count": 12,
   "id": "1851add5",
   "metadata": {},
   "outputs": [
    {
     "data": {
      "text/latex": [
       "$\\displaystyle t_{p} = - \\frac{\\Delta t_{d,eff} \\alpha l_{cst}}{2 l_{d}} + \\Delta t_{p,eff} - \\frac{l_{cst}^{2} \\left(- \\Delta t_{d,eff} \\alpha + \\Delta t_{d,eff}\\right)}{2 l_{d}^{2}}$"
      ],
      "text/plain": [
       "Eq(t_p, -\\Delta t_{d,eff}*\\alpha*l_{cst}/(2*l_d) + \\Delta t_{p,eff} - l_{cst}**2*(-\\Delta t_{d,eff}*\\alpha + \\Delta t_{d,eff})/(2*l_d**2))"
      ]
     },
     "metadata": {},
     "output_type": "display_data"
    },
    {
     "data": {
      "text/latex": [
       "$\\displaystyle t_{d} = \\frac{\\Delta t_{d,eff} \\alpha l_{cst}}{2 l_{d}} + \\Delta t_{d,eff} + \\Delta t_{p,eff} + \\frac{l_{cst}^{2} \\left(- \\Delta t_{d,eff} \\alpha + \\Delta t_{d,eff}\\right)}{2 l_{d}^{2}}$"
      ],
      "text/plain": [
       "Eq(t_d, \\Delta t_{d,eff}*\\alpha*l_{cst}/(2*l_d) + \\Delta t_{d,eff} + \\Delta t_{p,eff} + l_{cst}**2*(-\\Delta t_{d,eff}*\\alpha + \\Delta t_{d,eff})/(2*l_d**2))"
      ]
     },
     "metadata": {},
     "output_type": "display_data"
    },
    {
     "data": {
      "text/latex": [
       "$\\displaystyle \\frac{\\alpha l_{d} l_{cst} t_{d} + \\alpha l_{d} l_{cst} t_{p} - \\alpha l_{cst}^{2} t_{d} - \\alpha l_{cst}^{2} t_{p} + 2 l_{d}^{2} t_{p} + l_{cst}^{2} t_{d} + l_{cst}^{2} t_{p}}{2 \\alpha l_{d} l_{cst} - 2 \\alpha l_{cst}^{2} + 2 l_{d}^{2} + 2 l_{cst}^{2}}$"
      ],
      "text/plain": [
       "(\\alpha*l_d*l_{cst}*t_d + \\alpha*l_d*l_{cst}*t_p - \\alpha*l_{cst}**2*t_d - \\alpha*l_{cst}**2*t_p + 2*l_d**2*t_p + l_{cst}**2*t_d + l_{cst}**2*t_p)/(2*\\alpha*l_d*l_{cst} - 2*\\alpha*l_{cst}**2 + 2*l_d**2 + 2*l_{cst}**2)"
      ]
     },
     "metadata": {},
     "output_type": "display_data"
    },
    {
     "data": {
      "text/latex": [
       "$\\displaystyle \\frac{l_{d}^{2} t_{d} - l_{d}^{2} t_{p}}{\\alpha l_{d} l_{cst} - \\alpha l_{cst}^{2} + l_{d}^{2} + l_{cst}^{2}}$"
      ],
      "text/plain": [
       "(l_d**2*t_d - l_d**2*t_p)/(\\alpha*l_d*l_{cst} - \\alpha*l_{cst}**2 + l_d**2 + l_{cst}**2)"
      ]
     },
     "metadata": {},
     "output_type": "display_data"
    },
    {
     "data": {
      "text/latex": [
       "$\\displaystyle \\frac{\\Delta t_{d,eff} \\Delta t_{p,eff}^{2} \\alpha c_{\\phi}^{2} - \\Delta t_{d,eff} \\Delta t_{p,eff}^{2} c_{\\phi}^{2} - \\Delta t_{d,eff} \\Delta t_{p,eff} \\alpha c_{\\phi} l_{d} + 2 \\Delta t_{d,eff} \\Delta t_{p,eff} \\alpha c_{\\phi} l_{p} - 2 \\Delta t_{d,eff} \\Delta t_{p,eff} c_{\\phi} l_{p} - \\Delta t_{d,eff} \\alpha l_{d} l_{p} + \\Delta t_{d,eff} \\alpha l_{p}^{2} - \\Delta t_{d,eff} l_{p}^{2} + 2 \\Delta t_{p,eff} l_{d}^{2}}{2 l_{d}^{2}}$"
      ],
      "text/plain": [
       "(\\Delta t_{d,eff}*\\Delta t_{p,eff}**2*\\alpha*c_{\\phi}**2 - \\Delta t_{d,eff}*\\Delta t_{p,eff}**2*c_{\\phi}**2 - \\Delta t_{d,eff}*\\Delta t_{p,eff}*\\alpha*c_{\\phi}*l_d + 2*\\Delta t_{d,eff}*\\Delta t_{p,eff}*\\alpha*c_{\\phi}*l_p - 2*\\Delta t_{d,eff}*\\Delta t_{p,eff}*c_{\\phi}*l_p - \\Delta t_{d,eff}*\\alpha*l_d*l_p + \\Delta t_{d,eff}*\\alpha*l_p**2 - \\Delta t_{d,eff}*l_p**2 + 2*\\Delta t_{p,eff}*l_d**2)/(2*l_d**2)"
      ]
     },
     "metadata": {},
     "output_type": "display_data"
    },
    {
     "data": {
      "text/latex": [
       "$\\displaystyle \\frac{- \\Delta t_{d,eff} \\Delta t_{p,eff}^{2} \\alpha c_{\\phi}^{2} + \\Delta t_{d,eff} \\Delta t_{p,eff}^{2} c_{\\phi}^{2} + \\Delta t_{d,eff} \\Delta t_{p,eff} \\alpha c_{\\phi} l_{d} - 2 \\Delta t_{d,eff} \\Delta t_{p,eff} \\alpha c_{\\phi} l_{p} + 2 \\Delta t_{d,eff} \\Delta t_{p,eff} c_{\\phi} l_{p} + \\Delta t_{d,eff} \\alpha l_{d} l_{p} - \\Delta t_{d,eff} \\alpha l_{p}^{2} + 2 \\Delta t_{d,eff} l_{d}^{2} + \\Delta t_{d,eff} l_{p}^{2} + 2 \\Delta t_{p,eff} l_{d}^{2}}{2 l_{d}^{2}}$"
      ],
      "text/plain": [
       "(-\\Delta t_{d,eff}*\\Delta t_{p,eff}**2*\\alpha*c_{\\phi}**2 + \\Delta t_{d,eff}*\\Delta t_{p,eff}**2*c_{\\phi}**2 + \\Delta t_{d,eff}*\\Delta t_{p,eff}*\\alpha*c_{\\phi}*l_d - 2*\\Delta t_{d,eff}*\\Delta t_{p,eff}*\\alpha*c_{\\phi}*l_p + 2*\\Delta t_{d,eff}*\\Delta t_{p,eff}*c_{\\phi}*l_p + \\Delta t_{d,eff}*\\alpha*l_d*l_p - \\Delta t_{d,eff}*\\alpha*l_p**2 + 2*\\Delta t_{d,eff}*l_d**2 + \\Delta t_{d,eff}*l_p**2 + 2*\\Delta t_{p,eff}*l_d**2)/(2*l_d**2)"
      ]
     },
     "metadata": {},
     "output_type": "display_data"
    },
    {
     "data": {
      "text/latex": [
       "$\\displaystyle t_{p} = - \\frac{\\Delta t_{d,eff} \\alpha \\left(\\Delta t_{p,eff} c_{\\phi} + l_{p}\\right)}{2 l_{d}} + \\Delta t_{p,eff} - \\frac{\\left(- \\Delta t_{d,eff} \\alpha + \\Delta t_{d,eff}\\right) \\left(\\Delta t_{p,eff} c_{\\phi} + l_{p}\\right)^{2}}{2 l_{d}^{2}}$"
      ],
      "text/plain": [
       "Eq(t_p, -\\Delta t_{d,eff}*\\alpha*(\\Delta t_{p,eff}*c_{\\phi} + l_p)/(2*l_d) + \\Delta t_{p,eff} - (-\\Delta t_{d,eff}*\\alpha + \\Delta t_{d,eff})*(\\Delta t_{p,eff}*c_{\\phi} + l_p)**2/(2*l_d**2))"
      ]
     },
     "metadata": {},
     "output_type": "display_data"
    },
    {
     "data": {
      "text/latex": [
       "$\\displaystyle t_{d} = \\frac{\\Delta t_{d,eff} \\alpha \\left(\\Delta t_{p,eff} c_{\\phi} + l_{p}\\right)}{2 l_{d}} + \\Delta t_{d,eff} + \\Delta t_{p,eff} + \\frac{\\left(- \\Delta t_{d,eff} \\alpha + \\Delta t_{d,eff}\\right) \\left(\\Delta t_{p,eff} c_{\\phi} + l_{p}\\right)^{2}}{2 l_{d}^{2}}$"
      ],
      "text/plain": [
       "Eq(t_d, \\Delta t_{d,eff}*\\alpha*(\\Delta t_{p,eff}*c_{\\phi} + l_p)/(2*l_d) + \\Delta t_{d,eff} + \\Delta t_{p,eff} + (-\\Delta t_{d,eff}*\\alpha + \\Delta t_{d,eff})*(\\Delta t_{p,eff}*c_{\\phi} + l_p)**2/(2*l_d**2))"
      ]
     },
     "metadata": {},
     "output_type": "display_data"
    },
    {
     "name": "stdout",
     "output_type": "stream",
     "text": [
      "t_{p} = \\frac{- \\Delta t_{d,eff} \\alpha l_{d} \\left(\\Delta t_{p,eff} c_{\\phi} + l_{p}\\right) + \\Delta t_{d,eff} \\left(\\alpha - 1\\right) \\left(\\Delta t_{p,eff} c_{\\phi} + l_{p}\\right)^{2} + 2 \\Delta t_{p,eff} l_{d}^{2}}{2 l_{d}^{2}}\n",
      "t_{d} = \\frac{\\Delta t_{d,eff} \\alpha \\left(\\Delta t_{p,eff} c_{\\phi} + l_{p}\\right)}{2 l_{d}} + \\Delta t_{d,eff} + \\Delta t_{p,eff} + \\frac{\\left(- \\Delta t_{d,eff} \\alpha + \\Delta t_{d,eff}\\right) \\left(\\Delta t_{p,eff} c_{\\phi} + l_{p}\\right)^{2}}{2 l_{d}^{2}}\n"
     ]
    }
   ],
   "source": [
    "tpeqn = sp.Eq(tp, tpeff - dpnew_lcstsym)\n",
    "tdeqn = sp.Eq(td, tpeff + tdeff + dpnew_lcstsym)\n",
    "display(tpeqn)\n",
    "display(tdeqn)\n",
    "\n",
    "sol = sp.solve([tpeqn, tdeqn],(tpeff, tdeff))\n",
    "display(sol[tpeff])\n",
    "display(sol[tdeff])\n",
    "\n",
    "tpeqn2 = sp.Eq(tp, tpeff - dpnew)\n",
    "tdeqn2 = sp.Eq(td, tpeff + tdeff + dpnew)\n",
    "sol2 = sp.solve([tpeqn2, tdeqn2],(tp,td))\n",
    "display(sp.simplify(sol2[tp]))\n",
    "display(sol2[td])\n",
    "display(tpeqn2)\n",
    "display(tdeqn2)\n",
    "print(sp.latex(sp.simplify(tpeqn2)))\n",
    "print(sp.latex(tdeqn2))"
   ]
  }
 ],
 "metadata": {
  "kernelspec": {
   "display_name": "Python 3",
   "language": "python",
   "name": "python3"
  },
  "language_info": {
   "codemirror_mode": {
    "name": "ipython",
    "version": 3
   },
   "file_extension": ".py",
   "mimetype": "text/x-python",
   "name": "python",
   "nbconvert_exporter": "python",
   "pygments_lexer": "ipython3",
   "version": "3.10.12"
  }
 },
 "nbformat": 4,
 "nbformat_minor": 5
}
