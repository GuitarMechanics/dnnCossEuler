{
 "cells": [
  {
   "cell_type": "code",
   "execution_count": null,
   "metadata": {},
   "outputs": [],
   "source": [
    "import sympy as sp\n",
    "thp, thd, tp, td, lp, ld, alp, r, s = sp.symbols(r'\\theta_p \\theta_d t_p t_d l_p l_d \\alpha r s')\n"
   ]
  },
  {
   "cell_type": "code",
   "execution_count": null,
   "metadata": {},
   "outputs": [],
   "source": [
    "## 1. distal actuation, no tendons on the proximal\n",
    "kda = td / (ld * r)\n",
    "kd1 = alp * kda\n",
    "kd = 2 * (kda - kd1) * s / ld + kd1\n",
    "\n",
    "kpa = tp / (lp * r)\n",
    "kp1 = alp * kpa\n",
    "kp = 2 * (kpa - kp1) * s / lp + kp1"
   ]
  },
  {
   "cell_type": "markdown",
   "metadata": {},
   "source": [
    "듀얼벤딩 해석\n",
    "- Distal 텐던 구동시 distal tendon에 의해 발생한 proximal angle 변화를 계산\n",
    "\n",
    "- 동시에, proximal tendon의 길이 차분을 계산, 오프셋 부여\n",
    "\n",
    "이후 목표 proximal tendon의 구동에 따른 proximal, distal angle의 차분을 계산\n",
    "\n",
    "연립방정식으로 풀기"
   ]
  },
  {
   "cell_type": "markdown",
   "metadata": {},
   "source": [
    "Distal tendon 구동에 의한 proximal tendon 길이 차분\n",
    "\n",
    "힘줄의 길이 변화 $l_i - l'_i = r \\kappa l_i$가 됨을 이용"
   ]
  },
  {
   "cell_type": "code",
   "execution_count": null,
   "metadata": {},
   "outputs": [],
   "source": [
    "# proximal tendon 각도 및 길이 차분\n",
    "# thp_d = sp.integrate(kd, (s, 0, lp))\n",
    "# dp = thp_d * r\n",
    "# dd = sp.integrate(kd, (s, lp, ld)) * r\n",
    "# display(thp_d)\n",
    "# display(dp)\n",
    "# dp = (ld - td) * (lp / ld)\n",
    "# dd = (ld - td) - dp\n",
    "dp = sp.integrate(r * kd, (s, 0, lp))\n",
    "dd = sp.integrate(r * kd, (s, lp, ld))\n",
    "display(dp)\n",
    "display(dd)\n",
    "\n",
    "#check\n",
    "display(sp.integrate(r * kd, (s, 0, ld)))\n",
    "display(dp + dd)"
   ]
  },
  {
   "cell_type": "markdown",
   "metadata": {},
   "source": [
    "2가지 경우 // 수정중\n",
    "1. 동일방향으로 prox. tendon 추가구동시: l_p + tp가 구속조건이 됨\n",
    "2. 반대방향으로 prox. tendon 추가구동시: l_p - tp가 구속조건이 됨\n",
    "\n",
    "dist.tendon은 각 segment에서 미치는 영향력이 다름\n",
    "\n",
    "prox seg에서는 prox tendon 구속에 의해 반지름 2r에 백본길이가 구속길이와 같아짐\n",
    "\n",
    "dist seg에서는 prox seg에서 발생한 tendon 길이 차분에 의해 다소 변동이 발생\n",
    "\n",
    "Case 해석\n",
    "1. 동일방향\n",
    "Prox. tendon만 구동했을 때 늘어난 쪽 tendon의 곡률:\n",
    "\n",
    "$\\kappa_{p,out} = \\kappa_p \\frac{l_p}{l_p+t_p}$\n",
    "\n",
    "곡률반경의 닮음비를 이용하여 계산가능함\n",
    "\n",
    "이 상태에서 디스탈을 구동\n",
    "\n",
    "유효 백본 길이는 $l_d + t_p$가 된 상태\n",
    "\n",
    "distal에 의한 곡률 형성: 평균곡률 먼저 구하기\n",
    "\n",
    "$\\kappa_{avg, d} = \\begin{cases}\n",
    "                    \\frac{t_d}{2r(l_d+t_p)} (0 \\le s \\le l_p + t_p) \\\\\n",
    "                    \\frac{t_d}{r(l_d+t_p)}  (l_p + t_p \\le s \\le l_d + t_p)\\\\ \n",
    "                    \\end{cases}$\n",
    "\n",
    "이걸 가지고 prox 구속텐던의 곡률을 얻는다 >> 곡률 기반으로 구속안된쪽이 얼마나 수축한지를 구한다 >> 전체 길이에서 이거 빼고 디스털 구동 빼면 디스털 세그먼트 텐던 길이가 나옴 >> 디스털 길이에서 이걸 빼면 유효 디스털 TDL이 나온다\n",
    "\n",
    "대충 $\\cos(\\phi_s)$ 이런식으로 일반화하면 될 듯 하다"
   ]
  },
  {
   "cell_type": "code",
   "execution_count": null,
   "metadata": {},
   "outputs": [
    {
     "data": {
      "text/latex": [
       "$\\displaystyle \\frac{\\alpha t_{d}}{2 r \\left(l_{d} + t_{p} \\cos{\\left(\\phi_{s} \\right)}\\right)} + \\frac{l_{p} \\left(\\frac{\\alpha t_{p}}{l_{p} r} + \\frac{s \\left(- \\frac{2 \\alpha t_{p}}{l_{p} r} + \\frac{2 t_{p}}{l_{p} r}\\right)}{l_{p}}\\right)}{l_{p} + t_{p} \\cos{\\left(\\phi_{s} \\right)}} + \\frac{s \\left(- \\frac{\\alpha t_{d}}{r \\left(l_{d} + t_{p} \\cos{\\left(\\phi_{s} \\right)}\\right)} + \\frac{t_{d}}{r \\left(l_{d} + t_{p} \\cos{\\left(\\phi_{s} \\right)}\\right)}\\right)}{l_{d} + t_{p} \\cos{\\left(\\phi_{s} \\right)}}$"
      ],
      "text/plain": [
       "\\alpha*t_d/(2*r*(l_d + t_p*cos(\\phi_s))) + l_p*(\\alpha*t_p/(l_p*r) + s*(-2*\\alpha*t_p/(l_p*r) + 2*t_p/(l_p*r))/l_p)/(l_p + t_p*cos(\\phi_s)) + s*(-\\alpha*t_d/(r*(l_d + t_p*cos(\\phi_s))) + t_d/(r*(l_d + t_p*cos(\\phi_s))))/(l_d + t_p*cos(\\phi_s))"
      ]
     },
     "metadata": {},
     "output_type": "display_data"
    },
    {
     "data": {
      "text/latex": [
       "$\\displaystyle \\frac{\\left(l_{p} + t_{p} \\cos{\\left(\\phi_{s} \\right)}\\right)^{2} \\left(- 2 \\alpha l_{d}^{2} t_{p} - 4 \\alpha l_{d} t_{p}^{2} \\cos{\\left(\\phi_{s} \\right)} - \\alpha l_{p}^{2} t_{d} - \\alpha l_{p} t_{d} t_{p} \\cos{\\left(\\phi_{s} \\right)} - 2 \\alpha t_{p}^{3} \\cos^{2}{\\left(\\phi_{s} \\right)} + 2 l_{d}^{2} t_{p} + 4 l_{d} t_{p}^{2} \\cos{\\left(\\phi_{s} \\right)} + l_{p}^{2} t_{d} + l_{p} t_{d} t_{p} \\cos{\\left(\\phi_{s} \\right)} + 2 t_{p}^{3} \\cos^{2}{\\left(\\phi_{s} \\right)}\\right)}{2 l_{d}^{2} l_{p}^{2} r + 2 l_{d}^{2} l_{p} r t_{p} \\cos{\\left(\\phi_{s} \\right)} + 4 l_{d} l_{p}^{2} r t_{p} \\cos{\\left(\\phi_{s} \\right)} + 4 l_{d} l_{p} r t_{p}^{2} \\cos^{2}{\\left(\\phi_{s} \\right)} + 2 l_{p}^{2} r t_{p}^{2} \\cos^{2}{\\left(\\phi_{s} \\right)} + 2 l_{p} r t_{p}^{3} \\cos^{3}{\\left(\\phi_{s} \\right)}} + \\frac{\\left(l_{p} + t_{p} \\cos{\\left(\\phi_{s} \\right)}\\right) \\left(2 \\alpha l_{d} t_{p} + \\alpha l_{p} t_{d} + \\alpha t_{d} t_{p} \\cos{\\left(\\phi_{s} \\right)} + 2 \\alpha t_{p}^{2} \\cos{\\left(\\phi_{s} \\right)}\\right)}{2 l_{d} l_{p} r + 2 l_{d} r t_{p} \\cos{\\left(\\phi_{s} \\right)} + 2 l_{p} r t_{p} \\cos{\\left(\\phi_{s} \\right)} + 2 r t_{p}^{2} \\cos^{2}{\\left(\\phi_{s} \\right)}}$"
      ],
      "text/plain": [
       "(l_p + t_p*cos(\\phi_s))**2*(-2*\\alpha*l_d**2*t_p - 4*\\alpha*l_d*t_p**2*cos(\\phi_s) - \\alpha*l_p**2*t_d - \\alpha*l_p*t_d*t_p*cos(\\phi_s) - 2*\\alpha*t_p**3*cos(\\phi_s)**2 + 2*l_d**2*t_p + 4*l_d*t_p**2*cos(\\phi_s) + l_p**2*t_d + l_p*t_d*t_p*cos(\\phi_s) + 2*t_p**3*cos(\\phi_s)**2)/(2*l_d**2*l_p**2*r + 2*l_d**2*l_p*r*t_p*cos(\\phi_s) + 4*l_d*l_p**2*r*t_p*cos(\\phi_s) + 4*l_d*l_p*r*t_p**2*cos(\\phi_s)**2 + 2*l_p**2*r*t_p**2*cos(\\phi_s)**2 + 2*l_p*r*t_p**3*cos(\\phi_s)**3) + (l_p + t_p*cos(\\phi_s))*(2*\\alpha*l_d*t_p + \\alpha*l_p*t_d + \\alpha*t_d*t_p*cos(\\phi_s) + 2*\\alpha*t_p**2*cos(\\phi_s))/(2*l_d*l_p*r + 2*l_d*r*t_p*cos(\\phi_s) + 2*l_p*r*t_p*cos(\\phi_s) + 2*r*t_p**2*cos(\\phi_s)**2)"
      ]
     },
     "metadata": {},
     "output_type": "display_data"
    },
    {
     "data": {
      "text/latex": [
       "$\\displaystyle \\theta_{p} = \\frac{\\left(l_{p} + t_{p} \\cos{\\left(\\phi_{s} \\right)}\\right)^{2} \\left(- 2 \\alpha l_{d}^{2} t_{p} - 4 \\alpha l_{d} t_{p}^{2} \\cos{\\left(\\phi_{s} \\right)} - \\alpha l_{p}^{2} t_{d} - \\alpha l_{p} t_{d} t_{p} \\cos{\\left(\\phi_{s} \\right)} - 2 \\alpha t_{p}^{3} \\cos^{2}{\\left(\\phi_{s} \\right)} + 2 l_{d}^{2} t_{p} + 4 l_{d} t_{p}^{2} \\cos{\\left(\\phi_{s} \\right)} + l_{p}^{2} t_{d} + l_{p} t_{d} t_{p} \\cos{\\left(\\phi_{s} \\right)} + 2 t_{p}^{3} \\cos^{2}{\\left(\\phi_{s} \\right)}\\right)}{2 l_{d}^{2} l_{p}^{2} r + 2 l_{d}^{2} l_{p} r t_{p} \\cos{\\left(\\phi_{s} \\right)} + 4 l_{d} l_{p}^{2} r t_{p} \\cos{\\left(\\phi_{s} \\right)} + 4 l_{d} l_{p} r t_{p}^{2} \\cos^{2}{\\left(\\phi_{s} \\right)} + 2 l_{p}^{2} r t_{p}^{2} \\cos^{2}{\\left(\\phi_{s} \\right)} + 2 l_{p} r t_{p}^{3} \\cos^{3}{\\left(\\phi_{s} \\right)}} + \\frac{\\left(l_{p} + t_{p} \\cos{\\left(\\phi_{s} \\right)}\\right) \\left(2 \\alpha l_{d} t_{p} + \\alpha l_{p} t_{d} + \\alpha t_{d} t_{p} \\cos{\\left(\\phi_{s} \\right)} + 2 \\alpha t_{p}^{2} \\cos{\\left(\\phi_{s} \\right)}\\right)}{2 l_{d} l_{p} r + 2 l_{d} r t_{p} \\cos{\\left(\\phi_{s} \\right)} + 2 l_{p} r t_{p} \\cos{\\left(\\phi_{s} \\right)} + 2 r t_{p}^{2} \\cos^{2}{\\left(\\phi_{s} \\right)}}$"
      ],
      "text/plain": [
       "Eq(\\theta_p, (l_p + t_p*cos(\\phi_s))**2*(-2*\\alpha*l_d**2*t_p - 4*\\alpha*l_d*t_p**2*cos(\\phi_s) - \\alpha*l_p**2*t_d - \\alpha*l_p*t_d*t_p*cos(\\phi_s) - 2*\\alpha*t_p**3*cos(\\phi_s)**2 + 2*l_d**2*t_p + 4*l_d*t_p**2*cos(\\phi_s) + l_p**2*t_d + l_p*t_d*t_p*cos(\\phi_s) + 2*t_p**3*cos(\\phi_s)**2)/(2*l_d**2*l_p**2*r + 2*l_d**2*l_p*r*t_p*cos(\\phi_s) + 4*l_d*l_p**2*r*t_p*cos(\\phi_s) + 4*l_d*l_p*r*t_p**2*cos(\\phi_s)**2 + 2*l_p**2*r*t_p**2*cos(\\phi_s)**2 + 2*l_p*r*t_p**3*cos(\\phi_s)**3) + (l_p + t_p*cos(\\phi_s))*(2*\\alpha*l_d*t_p + \\alpha*l_p*t_d + \\alpha*t_d*t_p*cos(\\phi_s) + 2*\\alpha*t_p**2*cos(\\phi_s))/(2*l_d*l_p*r + 2*l_d*r*t_p*cos(\\phi_s) + 2*l_p*r*t_p*cos(\\phi_s) + 2*r*t_p**2*cos(\\phi_s)**2))"
      ]
     },
     "metadata": {},
     "output_type": "display_data"
    },
    {
     "data": {
      "text/latex": [
       "$\\displaystyle \\frac{- 2 \\alpha l_{d}^{2} t_{p}^{2} \\cos{\\left(\\phi_{s} \\right)} + \\alpha l_{d} l_{p}^{2} t_{d} + \\alpha l_{d} l_{p} t_{d} t_{p} \\cos{\\left(\\phi_{s} \\right)} - 4 \\alpha l_{d} t_{p}^{3} \\cos^{2}{\\left(\\phi_{s} \\right)} - \\alpha l_{p}^{3} t_{d} - \\alpha l_{p}^{2} t_{d} t_{p} \\cos{\\left(\\phi_{s} \\right)} - 2 \\alpha t_{p}^{4} \\cos^{3}{\\left(\\phi_{s} \\right)} + 2 l_{d}^{2} l_{p} t_{p} + 2 l_{d}^{2} t_{p}^{2} \\cos{\\left(\\phi_{s} \\right)} + 4 l_{d} l_{p} t_{p}^{2} \\cos{\\left(\\phi_{s} \\right)} + 4 l_{d} t_{p}^{3} \\cos^{2}{\\left(\\phi_{s} \\right)} + l_{p}^{3} t_{d} + 2 l_{p}^{2} t_{d} t_{p} \\cos{\\left(\\phi_{s} \\right)} + l_{p} t_{d} t_{p}^{2} \\cos^{2}{\\left(\\phi_{s} \\right)} + 2 l_{p} t_{p}^{3} \\cos^{2}{\\left(\\phi_{s} \\right)} + 2 t_{p}^{4} \\cos^{3}{\\left(\\phi_{s} \\right)}}{l_{p} \\left(l_{d} + t_{p} \\cos{\\left(\\phi_{s} \\right)}\\right)^{2}}$"
      ],
      "text/plain": [
       "(-2*\\alpha*l_d**2*t_p**2*cos(\\phi_s) + \\alpha*l_d*l_p**2*t_d + \\alpha*l_d*l_p*t_d*t_p*cos(\\phi_s) - 4*\\alpha*l_d*t_p**3*cos(\\phi_s)**2 - \\alpha*l_p**3*t_d - \\alpha*l_p**2*t_d*t_p*cos(\\phi_s) - 2*\\alpha*t_p**4*cos(\\phi_s)**3 + 2*l_d**2*l_p*t_p + 2*l_d**2*t_p**2*cos(\\phi_s) + 4*l_d*l_p*t_p**2*cos(\\phi_s) + 4*l_d*t_p**3*cos(\\phi_s)**2 + l_p**3*t_d + 2*l_p**2*t_d*t_p*cos(\\phi_s) + l_p*t_d*t_p**2*cos(\\phi_s)**2 + 2*l_p*t_p**3*cos(\\phi_s)**2 + 2*t_p**4*cos(\\phi_s)**3)/(l_p*(l_d + t_p*cos(\\phi_s))**2)"
      ]
     },
     "metadata": {},
     "output_type": "display_data"
    },
    {
     "data": {
      "text/latex": [
       "$\\displaystyle \\frac{t_{p} \\left(- \\alpha t_{p} + l_{p} + t_{p}\\right)}{l_{p} r}$"
      ],
      "text/plain": [
       "t_p*(-\\alpha*t_p + l_p + t_p)/(l_p*r)"
      ]
     },
     "metadata": {},
     "output_type": "display_data"
    }
   ],
   "source": [
    "# 일반화\n",
    "p_s = sp.symbols('\\phi_s')\n",
    "dir = sp.cos(p_s)\n",
    "tdconst = lp + tp * dir\n",
    "kda_pr = td / (2 * r * (tdconst + ld - lp))\n",
    "kd1_pr = alp * kda_pr\n",
    "kd_pr = 2 * (kda_pr - kd1_pr) * s / (tdconst + ld - lp) + kd1_pr\n",
    "\n",
    "kpa = tp / (lp * r)\n",
    "kp1 = alp * kpa\n",
    "kp = 2 * (kpa - kp1) * s / lp + kp1\n",
    "kp_off = kp * (lp / tdconst)\n",
    "\n",
    "kp_sum = kd_pr + kp_off\n",
    "\n",
    "display(kp_off)\n",
    "display(kd_pr)\n",
    "\n",
    "# proximal tendon 각도 = prox.seg 각도\n",
    "pang_int = sp.integrate(kp_sum, (s, 0, tdconst))\n",
    "display(pang_int)\n",
    "dp = 2 * r * pang_int\n",
    "prox_diff = r * pang_int # 중심축 길이 축소분\n",
    "\n",
    "tp_eq = sp.Eq(thp, pang_int)\n",
    "display(tp_eq)\n",
    "\n",
    "display(sp.simplify(dp))\n",
    "display(sp.simplify(pang_int.subs({td : 0, p_s : 0})))"
   ]
  },
  {
   "cell_type": "markdown",
   "metadata": {},
   "source": [
    "듀얼을 계산해 보자\n",
    "\n",
    "prox.seg 텐던부 길이: lp - dp\n",
    "\n",
    "prox.seg 척추부 길이: lp - dp/2 << 중심축 길이가 축소됨\n",
    "\n",
    "dist.seg 텐던부 길이: ld - td - prox. 척추부\n",
    "\n",
    "이거 말고 그냥 적분으로 간다 >> ????"
   ]
  },
  {
   "cell_type": "code",
   "execution_count": 19,
   "metadata": {},
   "outputs": [
    {
     "data": {
      "text/latex": [
       "$\\displaystyle \\theta_{p} = \\frac{\\left(l_{p} + t_{p} \\cos{\\left(\\phi_{s} \\right)}\\right)^{2} \\left(- 2 \\alpha l_{d} t_{p} - \\alpha l_{p} t_{d} - 2 \\alpha t_{p}^{2} \\cos{\\left(\\phi_{s} \\right)} + 2 l_{d} t_{p} + l_{p} t_{d} + 2 t_{p}^{2} \\cos{\\left(\\phi_{s} \\right)}\\right)}{2 l_{d} l_{p}^{2} r + 2 l_{d} l_{p} r t_{p} \\cos{\\left(\\phi_{s} \\right)} + 2 l_{p}^{2} r t_{p} \\cos{\\left(\\phi_{s} \\right)} + 2 l_{p} r t_{p}^{2} \\cos^{2}{\\left(\\phi_{s} \\right)}} + \\frac{\\left(l_{p} + t_{p} \\cos{\\left(\\phi_{s} \\right)}\\right) \\left(\\alpha t_{d} + 2 \\alpha t_{p}\\right)}{2 l_{p} r + 2 r t_{p} \\cos{\\left(\\phi_{s} \\right)}}$"
      ],
      "text/plain": [
       "Eq(\\theta_p, (l_p + t_p*cos(\\phi_s))**2*(-2*\\alpha*l_d*t_p - \\alpha*l_p*t_d - 2*\\alpha*t_p**2*cos(\\phi_s) + 2*l_d*t_p + l_p*t_d + 2*t_p**2*cos(\\phi_s))/(2*l_d*l_p**2*r + 2*l_d*l_p*r*t_p*cos(\\phi_s) + 2*l_p**2*r*t_p*cos(\\phi_s) + 2*l_p*r*t_p**2*cos(\\phi_s)**2) + (l_p + t_p*cos(\\phi_s))*(\\alpha*t_d + 2*\\alpha*t_p)/(2*l_p*r + 2*r*t_p*cos(\\phi_s)))"
      ]
     },
     "metadata": {},
     "output_type": "display_data"
    },
    {
     "data": {
      "text/latex": [
       "$\\displaystyle \\theta_{d} = \\frac{- r \\left(\\frac{\\left(l_{p} + t_{p} \\cos{\\left(\\phi_{s} \\right)}\\right)^{2} \\left(- 2 \\alpha l_{d} t_{p} - \\alpha l_{p} t_{d} - 2 \\alpha t_{p}^{2} \\cos{\\left(\\phi_{s} \\right)} + 2 l_{d} t_{p} + l_{p} t_{d} + 2 t_{p}^{2} \\cos{\\left(\\phi_{s} \\right)}\\right)}{2 l_{d} l_{p}^{2} r + 2 l_{d} l_{p} r t_{p} \\cos{\\left(\\phi_{s} \\right)} + 2 l_{p}^{2} r t_{p} \\cos{\\left(\\phi_{s} \\right)} + 2 l_{p} r t_{p}^{2} \\cos^{2}{\\left(\\phi_{s} \\right)}} + \\frac{\\left(l_{p} + t_{p} \\cos{\\left(\\phi_{s} \\right)}\\right) \\left(\\alpha t_{d} + 2 \\alpha t_{p}\\right)}{2 l_{p} r + 2 r t_{p} \\cos{\\left(\\phi_{s} \\right)}}\\right) \\cos{\\left(\\phi_{s} \\right)} + t_{d}}{r}$"
      ],
      "text/plain": [
       "Eq(\\theta_d, (-r*((l_p + t_p*cos(\\phi_s))**2*(-2*\\alpha*l_d*t_p - \\alpha*l_p*t_d - 2*\\alpha*t_p**2*cos(\\phi_s) + 2*l_d*t_p + l_p*t_d + 2*t_p**2*cos(\\phi_s))/(2*l_d*l_p**2*r + 2*l_d*l_p*r*t_p*cos(\\phi_s) + 2*l_p**2*r*t_p*cos(\\phi_s) + 2*l_p*r*t_p**2*cos(\\phi_s)**2) + (l_p + t_p*cos(\\phi_s))*(\\alpha*t_d + 2*\\alpha*t_p)/(2*l_p*r + 2*r*t_p*cos(\\phi_s)))*cos(\\phi_s) + t_d)/r)"
      ]
     },
     "metadata": {},
     "output_type": "display_data"
    },
    {
     "ename": "KeyboardInterrupt",
     "evalue": "",
     "output_type": "error",
     "traceback": [
      "\u001b[31m---------------------------------------------------------------------------\u001b[39m",
      "\u001b[31mKeyboardInterrupt\u001b[39m                         Traceback (most recent call last)",
      "\u001b[36mCell\u001b[39m\u001b[36m \u001b[39m\u001b[32mIn[19]\u001b[39m\u001b[32m, line 9\u001b[39m\n\u001b[32m      6\u001b[39m display(pang_eqn)\n\u001b[32m      7\u001b[39m display(dang_eqn)\n\u001b[32m----> \u001b[39m\u001b[32m9\u001b[39m sol = \u001b[43msp\u001b[49m\u001b[43m.\u001b[49m\u001b[43msolve\u001b[49m\u001b[43m(\u001b[49m\u001b[43m[\u001b[49m\u001b[43mpang_eqn\u001b[49m\u001b[43m,\u001b[49m\u001b[43m \u001b[49m\u001b[43mdang_eqn\u001b[49m\u001b[43m]\u001b[49m\u001b[43m,\u001b[49m\u001b[43m \u001b[49m\u001b[43m(\u001b[49m\u001b[43mtp\u001b[49m\u001b[43m,\u001b[49m\u001b[43m \u001b[49m\u001b[43mtd\u001b[49m\u001b[43m)\u001b[49m\u001b[43m)\u001b[49m\n\u001b[32m     10\u001b[39m \u001b[38;5;28;01mfor\u001b[39;00m val \u001b[38;5;129;01min\u001b[39;00m sol:\n\u001b[32m     11\u001b[39m     display(val[\u001b[32m0\u001b[39m])\n",
      "\u001b[36mFile \u001b[39m\u001b[32m~\\AppData\\Local\\Packages\\PythonSoftwareFoundation.Python.3.11_qbz5n2kfra8p0\\LocalCache\\local-packages\\Python311\\site-packages\\sympy\\solvers\\solvers.py:1147\u001b[39m, in \u001b[36msolve\u001b[39m\u001b[34m(f, *symbols, **flags)\u001b[39m\n\u001b[32m   1145\u001b[39m         solution = _solve(f[\u001b[32m0\u001b[39m], *symbols, **flags)\n\u001b[32m   1146\u001b[39m \u001b[38;5;28;01melse\u001b[39;00m:\n\u001b[32m-> \u001b[39m\u001b[32m1147\u001b[39m     linear, solution = \u001b[43m_solve_system\u001b[49m\u001b[43m(\u001b[49m\u001b[43mf\u001b[49m\u001b[43m,\u001b[49m\u001b[43m \u001b[49m\u001b[43msymbols\u001b[49m\u001b[43m,\u001b[49m\u001b[43m \u001b[49m\u001b[43m*\u001b[49m\u001b[43m*\u001b[49m\u001b[43mflags\u001b[49m\u001b[43m)\u001b[49m\n\u001b[32m   1148\u001b[39m \u001b[38;5;28;01massert\u001b[39;00m \u001b[38;5;28mtype\u001b[39m(solution) \u001b[38;5;129;01mis\u001b[39;00m \u001b[38;5;28mlist\u001b[39m\n\u001b[32m   1149\u001b[39m \u001b[38;5;28;01massert\u001b[39;00m \u001b[38;5;129;01mnot\u001b[39;00m solution \u001b[38;5;129;01mor\u001b[39;00m \u001b[38;5;28mtype\u001b[39m(solution[\u001b[32m0\u001b[39m]) \u001b[38;5;129;01mis\u001b[39;00m \u001b[38;5;28mdict\u001b[39m, solution\n",
      "\u001b[36mFile \u001b[39m\u001b[32m~\\AppData\\Local\\Packages\\PythonSoftwareFoundation.Python.3.11_qbz5n2kfra8p0\\LocalCache\\local-packages\\Python311\\site-packages\\sympy\\solvers\\solvers.py:1934\u001b[39m, in \u001b[36m_solve_system\u001b[39m\u001b[34m(exprs, symbols, **flags)\u001b[39m\n\u001b[32m   1932\u001b[39m \u001b[38;5;28;01mfor\u001b[39;00m s \u001b[38;5;129;01min\u001b[39;00m ok_syms:\n\u001b[32m   1933\u001b[39m     \u001b[38;5;28;01mtry\u001b[39;00m:\n\u001b[32m-> \u001b[39m\u001b[32m1934\u001b[39m         soln = \u001b[43m_vsolve\u001b[49m\u001b[43m(\u001b[49m\u001b[43meq2\u001b[49m\u001b[43m,\u001b[49m\u001b[43m \u001b[49m\u001b[43ms\u001b[49m\u001b[43m,\u001b[49m\u001b[43m \u001b[49m\u001b[43m*\u001b[49m\u001b[43m*\u001b[49m\u001b[43mflags\u001b[49m\u001b[43m)\u001b[49m\n\u001b[32m   1935\u001b[39m     \u001b[38;5;28;01mexcept\u001b[39;00m \u001b[38;5;167;01mNotImplementedError\u001b[39;00m:\n\u001b[32m   1936\u001b[39m         \u001b[38;5;28;01mcontinue\u001b[39;00m\n",
      "\u001b[36mFile \u001b[39m\u001b[32m~\\AppData\\Local\\Packages\\PythonSoftwareFoundation.Python.3.11_qbz5n2kfra8p0\\LocalCache\\local-packages\\Python311\\site-packages\\sympy\\solvers\\solvers.py:2606\u001b[39m, in \u001b[36m_vsolve\u001b[39m\u001b[34m(e, s, **flags)\u001b[39m\n\u001b[32m   2604\u001b[39m \u001b[38;5;28;01mdef\u001b[39;00m\u001b[38;5;250m \u001b[39m\u001b[34m_vsolve\u001b[39m(e, s, **flags):\n\u001b[32m   2605\u001b[39m \u001b[38;5;250m    \u001b[39m\u001b[33;03m\"\"\"return list of scalar values for the solution of e for symbol s\"\"\"\u001b[39;00m\n\u001b[32m-> \u001b[39m\u001b[32m2606\u001b[39m     \u001b[38;5;28;01mreturn\u001b[39;00m [i[s] \u001b[38;5;28;01mfor\u001b[39;00m i \u001b[38;5;129;01min\u001b[39;00m \u001b[43m_solve\u001b[49m\u001b[43m(\u001b[49m\u001b[43me\u001b[49m\u001b[43m,\u001b[49m\u001b[43m \u001b[49m\u001b[43ms\u001b[49m\u001b[43m,\u001b[49m\u001b[43m \u001b[49m\u001b[43m*\u001b[49m\u001b[43m*\u001b[49m\u001b[43mflags\u001b[49m\u001b[43m)\u001b[49m]\n",
      "\u001b[36mFile \u001b[39m\u001b[32m~\\AppData\\Local\\Packages\\PythonSoftwareFoundation.Python.3.11_qbz5n2kfra8p0\\LocalCache\\local-packages\\Python311\\site-packages\\sympy\\solvers\\solvers.py:1709\u001b[39m, in \u001b[36m_solve\u001b[39m\u001b[34m(f, *symbols, **flags)\u001b[39m\n\u001b[32m   1705\u001b[39m \u001b[38;5;28;01mif\u001b[39;00m checkdens:\n\u001b[32m   1706\u001b[39m     \u001b[38;5;66;03m# reject any result that makes any denom. affirmatively 0;\u001b[39;00m\n\u001b[32m   1707\u001b[39m     \u001b[38;5;66;03m# if in doubt, keep it\u001b[39;00m\n\u001b[32m   1708\u001b[39m     dens = _simple_dens(f, symbols)\n\u001b[32m-> \u001b[39m\u001b[32m1709\u001b[39m     result = \u001b[43m[\u001b[49m\u001b[43mr\u001b[49m\u001b[43m \u001b[49m\u001b[38;5;28;43;01mfor\u001b[39;49;00m\u001b[43m \u001b[49m\u001b[43mr\u001b[49m\u001b[43m \u001b[49m\u001b[38;5;129;43;01min\u001b[39;49;00m\u001b[43m \u001b[49m\u001b[43mresult\u001b[49m\u001b[43m \u001b[49m\u001b[38;5;28;43;01mif\u001b[39;49;00m\n\u001b[32m   1710\u001b[39m \u001b[43m              \u001b[49m\u001b[38;5;129;43;01mnot\u001b[39;49;00m\u001b[43m \u001b[49m\u001b[38;5;28;43many\u001b[39;49m\u001b[43m(\u001b[49m\u001b[43mchecksol\u001b[49m\u001b[43m(\u001b[49m\u001b[43md\u001b[49m\u001b[43m,\u001b[49m\u001b[43m \u001b[49m\u001b[43mr\u001b[49m\u001b[43m,\u001b[49m\u001b[43m \u001b[49m\u001b[43m*\u001b[49m\u001b[43m*\u001b[49m\u001b[43mflags\u001b[49m\u001b[43m)\u001b[49m\n\u001b[32m   1711\u001b[39m \u001b[43m                      \u001b[49m\u001b[38;5;28;43;01mfor\u001b[39;49;00m\u001b[43m \u001b[49m\u001b[43md\u001b[49m\u001b[43m \u001b[49m\u001b[38;5;129;43;01min\u001b[39;49;00m\u001b[43m \u001b[49m\u001b[43mdens\u001b[49m\u001b[43m)\u001b[49m\u001b[43m]\u001b[49m\n\u001b[32m   1712\u001b[39m \u001b[38;5;28;01mif\u001b[39;00m check:\n\u001b[32m   1713\u001b[39m     \u001b[38;5;66;03m# keep only results if the check is not False\u001b[39;00m\n\u001b[32m   1714\u001b[39m     result = [r \u001b[38;5;28;01mfor\u001b[39;00m r \u001b[38;5;129;01min\u001b[39;00m result \u001b[38;5;28;01mif\u001b[39;00m\n\u001b[32m   1715\u001b[39m               checksol(f_num, r, **flags) \u001b[38;5;129;01mis\u001b[39;00m \u001b[38;5;129;01mnot\u001b[39;00m \u001b[38;5;28;01mFalse\u001b[39;00m]\n",
      "\u001b[36mFile \u001b[39m\u001b[32m~\\AppData\\Local\\Packages\\PythonSoftwareFoundation.Python.3.11_qbz5n2kfra8p0\\LocalCache\\local-packages\\Python311\\site-packages\\sympy\\solvers\\solvers.py:1710\u001b[39m, in \u001b[36m<listcomp>\u001b[39m\u001b[34m(.0)\u001b[39m\n\u001b[32m   1705\u001b[39m \u001b[38;5;28;01mif\u001b[39;00m checkdens:\n\u001b[32m   1706\u001b[39m     \u001b[38;5;66;03m# reject any result that makes any denom. affirmatively 0;\u001b[39;00m\n\u001b[32m   1707\u001b[39m     \u001b[38;5;66;03m# if in doubt, keep it\u001b[39;00m\n\u001b[32m   1708\u001b[39m     dens = _simple_dens(f, symbols)\n\u001b[32m   1709\u001b[39m     result = [r \u001b[38;5;28;01mfor\u001b[39;00m r \u001b[38;5;129;01min\u001b[39;00m result \u001b[38;5;28;01mif\u001b[39;00m\n\u001b[32m-> \u001b[39m\u001b[32m1710\u001b[39m               \u001b[38;5;129;01mnot\u001b[39;00m \u001b[38;5;28many\u001b[39m(checksol(d, r, **flags)\n\u001b[32m   1711\u001b[39m                       \u001b[38;5;28;01mfor\u001b[39;00m d \u001b[38;5;129;01min\u001b[39;00m dens)]\n\u001b[32m   1712\u001b[39m \u001b[38;5;28;01mif\u001b[39;00m check:\n\u001b[32m   1713\u001b[39m     \u001b[38;5;66;03m# keep only results if the check is not False\u001b[39;00m\n\u001b[32m   1714\u001b[39m     result = [r \u001b[38;5;28;01mfor\u001b[39;00m r \u001b[38;5;129;01min\u001b[39;00m result \u001b[38;5;28;01mif\u001b[39;00m\n\u001b[32m   1715\u001b[39m               checksol(f_num, r, **flags) \u001b[38;5;129;01mis\u001b[39;00m \u001b[38;5;129;01mnot\u001b[39;00m \u001b[38;5;28;01mFalse\u001b[39;00m]\n",
      "\u001b[36mFile \u001b[39m\u001b[32m~\\AppData\\Local\\Packages\\PythonSoftwareFoundation.Python.3.11_qbz5n2kfra8p0\\LocalCache\\local-packages\\Python311\\site-packages\\sympy\\solvers\\solvers.py:1710\u001b[39m, in \u001b[36m<genexpr>\u001b[39m\u001b[34m(.0)\u001b[39m\n\u001b[32m   1705\u001b[39m \u001b[38;5;28;01mif\u001b[39;00m checkdens:\n\u001b[32m   1706\u001b[39m     \u001b[38;5;66;03m# reject any result that makes any denom. affirmatively 0;\u001b[39;00m\n\u001b[32m   1707\u001b[39m     \u001b[38;5;66;03m# if in doubt, keep it\u001b[39;00m\n\u001b[32m   1708\u001b[39m     dens = _simple_dens(f, symbols)\n\u001b[32m   1709\u001b[39m     result = [r \u001b[38;5;28;01mfor\u001b[39;00m r \u001b[38;5;129;01min\u001b[39;00m result \u001b[38;5;28;01mif\u001b[39;00m\n\u001b[32m-> \u001b[39m\u001b[32m1710\u001b[39m               \u001b[38;5;129;01mnot\u001b[39;00m \u001b[38;5;28many\u001b[39m(\u001b[43mchecksol\u001b[49m\u001b[43m(\u001b[49m\u001b[43md\u001b[49m\u001b[43m,\u001b[49m\u001b[43m \u001b[49m\u001b[43mr\u001b[49m\u001b[43m,\u001b[49m\u001b[43m \u001b[49m\u001b[43m*\u001b[49m\u001b[43m*\u001b[49m\u001b[43mflags\u001b[49m\u001b[43m)\u001b[49m\n\u001b[32m   1711\u001b[39m                       \u001b[38;5;28;01mfor\u001b[39;00m d \u001b[38;5;129;01min\u001b[39;00m dens)]\n\u001b[32m   1712\u001b[39m \u001b[38;5;28;01mif\u001b[39;00m check:\n\u001b[32m   1713\u001b[39m     \u001b[38;5;66;03m# keep only results if the check is not False\u001b[39;00m\n\u001b[32m   1714\u001b[39m     result = [r \u001b[38;5;28;01mfor\u001b[39;00m r \u001b[38;5;129;01min\u001b[39;00m result \u001b[38;5;28;01mif\u001b[39;00m\n\u001b[32m   1715\u001b[39m               checksol(f_num, r, **flags) \u001b[38;5;129;01mis\u001b[39;00m \u001b[38;5;129;01mnot\u001b[39;00m \u001b[38;5;28;01mFalse\u001b[39;00m]\n",
      "\u001b[36mFile \u001b[39m\u001b[32m~\\AppData\\Local\\Packages\\PythonSoftwareFoundation.Python.3.11_qbz5n2kfra8p0\\LocalCache\\local-packages\\Python311\\site-packages\\sympy\\solvers\\solvers.py:310\u001b[39m, in \u001b[36mchecksol\u001b[39m\u001b[34m(f, symbol, sol, **flags)\u001b[39m\n\u001b[32m    307\u001b[39m         sol[k] = simplify(sol[k])\n\u001b[32m    308\u001b[39m \u001b[38;5;66;03m# start over without the failed expanded form, possibly\u001b[39;00m\n\u001b[32m    309\u001b[39m \u001b[38;5;66;03m# with a simplified solution\u001b[39;00m\n\u001b[32m--> \u001b[39m\u001b[32m310\u001b[39m val = \u001b[43msimplify\u001b[49m\u001b[43m(\u001b[49m\u001b[43mf\u001b[49m\u001b[43m.\u001b[49m\u001b[43msubs\u001b[49m\u001b[43m(\u001b[49m\u001b[43msol\u001b[49m\u001b[43m)\u001b[49m\u001b[43m)\u001b[49m\n\u001b[32m    311\u001b[39m \u001b[38;5;28;01mif\u001b[39;00m flags.get(\u001b[33m'\u001b[39m\u001b[33mforce\u001b[39m\u001b[33m'\u001b[39m, \u001b[38;5;28;01mTrue\u001b[39;00m):\n\u001b[32m    312\u001b[39m     val, reps = posify(val)\n",
      "\u001b[36mFile \u001b[39m\u001b[32m~\\AppData\\Local\\Packages\\PythonSoftwareFoundation.Python.3.11_qbz5n2kfra8p0\\LocalCache\\local-packages\\Python311\\site-packages\\sympy\\simplify\\simplify.py:645\u001b[39m, in \u001b[36msimplify\u001b[39m\u001b[34m(expr, ratio, measure, rational, inverse, doit, **kwargs)\u001b[39m\n\u001b[32m    643\u001b[39m expr = Mul(*powsimp(expr).as_content_primitive())\n\u001b[32m    644\u001b[39m _e = cancel(expr)\n\u001b[32m--> \u001b[39m\u001b[32m645\u001b[39m expr1 = shorter(_e, \u001b[43m_mexpand\u001b[49m\u001b[43m(\u001b[49m\u001b[43m_e\u001b[49m\u001b[43m)\u001b[49m\u001b[43m.\u001b[49m\u001b[43mcancel\u001b[49m\u001b[43m(\u001b[49m\u001b[43m)\u001b[49m)  \u001b[38;5;66;03m# issue 6829\u001b[39;00m\n\u001b[32m    646\u001b[39m expr2 = shorter(together(expr, deep=\u001b[38;5;28;01mTrue\u001b[39;00m), together(expr1, deep=\u001b[38;5;28;01mTrue\u001b[39;00m))\n\u001b[32m    648\u001b[39m \u001b[38;5;28;01mif\u001b[39;00m ratio \u001b[38;5;129;01mis\u001b[39;00m S.Infinity:\n",
      "\u001b[36mFile \u001b[39m\u001b[32m~\\AppData\\Local\\Packages\\PythonSoftwareFoundation.Python.3.11_qbz5n2kfra8p0\\LocalCache\\local-packages\\Python311\\site-packages\\sympy\\core\\expr.py:3791\u001b[39m, in \u001b[36mExpr.cancel\u001b[39m\u001b[34m(self, *gens, **args)\u001b[39m\n\u001b[32m   3789\u001b[39m \u001b[38;5;250m\u001b[39m\u001b[33;03m\"\"\"See the cancel function in sympy.polys\"\"\"\u001b[39;00m\n\u001b[32m   3790\u001b[39m \u001b[38;5;28;01mfrom\u001b[39;00m\u001b[38;5;250m \u001b[39m\u001b[34;01msympy\u001b[39;00m\u001b[34;01m.\u001b[39;00m\u001b[34;01mpolys\u001b[39;00m\u001b[34;01m.\u001b[39;00m\u001b[34;01mpolytools\u001b[39;00m\u001b[38;5;250m \u001b[39m\u001b[38;5;28;01mimport\u001b[39;00m cancel\n\u001b[32m-> \u001b[39m\u001b[32m3791\u001b[39m \u001b[38;5;28;01mreturn\u001b[39;00m \u001b[43mcancel\u001b[49m\u001b[43m(\u001b[49m\u001b[38;5;28;43mself\u001b[39;49m\u001b[43m,\u001b[49m\u001b[43m \u001b[49m\u001b[43m*\u001b[49m\u001b[43mgens\u001b[49m\u001b[43m,\u001b[49m\u001b[43m \u001b[49m\u001b[43m*\u001b[49m\u001b[43m*\u001b[49m\u001b[43margs\u001b[49m\u001b[43m)\u001b[49m\n",
      "\u001b[36mFile \u001b[39m\u001b[32m~\\AppData\\Local\\Packages\\PythonSoftwareFoundation.Python.3.11_qbz5n2kfra8p0\\LocalCache\\local-packages\\Python311\\site-packages\\sympy\\polys\\polytools.py:6832\u001b[39m, in \u001b[36mcancel\u001b[39m\u001b[34m(f, _signsimp, *gens, **args)\u001b[39m\n\u001b[32m   6830\u001b[39m f = sympify(f)\n\u001b[32m   6831\u001b[39m \u001b[38;5;28;01mif\u001b[39;00m _signsimp:\n\u001b[32m-> \u001b[39m\u001b[32m6832\u001b[39m     f = \u001b[43msignsimp\u001b[49m\u001b[43m(\u001b[49m\u001b[43mf\u001b[49m\u001b[43m)\u001b[49m\n\u001b[32m   6833\u001b[39m opt = {}\n\u001b[32m   6834\u001b[39m \u001b[38;5;28;01mif\u001b[39;00m \u001b[33m'\u001b[39m\u001b[33mpolys\u001b[39m\u001b[33m'\u001b[39m \u001b[38;5;129;01min\u001b[39;00m args:\n",
      "\u001b[36mFile \u001b[39m\u001b[32m~\\AppData\\Local\\Packages\\PythonSoftwareFoundation.Python.3.11_qbz5n2kfra8p0\\LocalCache\\local-packages\\Python311\\site-packages\\sympy\\simplify\\simplify.py:406\u001b[39m, in \u001b[36msignsimp\u001b[39m\u001b[34m(expr, evaluate)\u001b[39m\n\u001b[32m    404\u001b[39m \u001b[38;5;66;03m# get rid of an pre-existing unevaluation regarding sign\u001b[39;00m\n\u001b[32m    405\u001b[39m e = expr.replace(\u001b[38;5;28;01mlambda\u001b[39;00m x: x.is_Mul \u001b[38;5;129;01mand\u001b[39;00m -(-x) != x, \u001b[38;5;28;01mlambda\u001b[39;00m x: -(-x))\n\u001b[32m--> \u001b[39m\u001b[32m406\u001b[39m e = sub_post(\u001b[43msub_pre\u001b[49m\u001b[43m(\u001b[49m\u001b[43me\u001b[49m\u001b[43m)\u001b[49m)\n\u001b[32m    407\u001b[39m \u001b[38;5;28;01mif\u001b[39;00m \u001b[38;5;129;01mnot\u001b[39;00m \u001b[38;5;28misinstance\u001b[39m(e, (Expr, Relational)) \u001b[38;5;129;01mor\u001b[39;00m e.is_Atom:\n\u001b[32m    408\u001b[39m     \u001b[38;5;28;01mreturn\u001b[39;00m e\n",
      "\u001b[36mFile \u001b[39m\u001b[32m~\\AppData\\Local\\Packages\\PythonSoftwareFoundation.Python.3.11_qbz5n2kfra8p0\\LocalCache\\local-packages\\Python311\\site-packages\\sympy\\simplify\\cse_opts.py:30\u001b[39m, in \u001b[36msub_pre\u001b[39m\u001b[34m(e)\u001b[39m\n\u001b[32m     28\u001b[39m \u001b[38;5;28;01mif\u001b[39;00m \u001b[38;5;28misinstance\u001b[39m(e, Basic):\n\u001b[32m     29\u001b[39m     negs = {}\n\u001b[32m---> \u001b[39m\u001b[32m30\u001b[39m     \u001b[38;5;28;01mfor\u001b[39;00m a \u001b[38;5;129;01min\u001b[39;00m \u001b[38;5;28msorted\u001b[39m(\u001b[43me\u001b[49m\u001b[43m.\u001b[49m\u001b[43matoms\u001b[49m\u001b[43m(\u001b[49m\u001b[43mAdd\u001b[49m\u001b[43m)\u001b[49m, key=default_sort_key):\n\u001b[32m     31\u001b[39m         \u001b[38;5;28;01mif\u001b[39;00m a \u001b[38;5;129;01min\u001b[39;00m ignore:\n\u001b[32m     32\u001b[39m             \u001b[38;5;28;01mcontinue\u001b[39;00m\n",
      "\u001b[36mFile \u001b[39m\u001b[32m~\\AppData\\Local\\Packages\\PythonSoftwareFoundation.Python.3.11_qbz5n2kfra8p0\\LocalCache\\local-packages\\Python311\\site-packages\\sympy\\core\\basic.py:559\u001b[39m, in \u001b[36mBasic.atoms\u001b[39m\u001b[34m(self, *types)\u001b[39m\n\u001b[32m    557\u001b[39m nodes = _preorder_traversal(\u001b[38;5;28mself\u001b[39m)\n\u001b[32m    558\u001b[39m \u001b[38;5;28;01mif\u001b[39;00m types:\n\u001b[32m--> \u001b[39m\u001b[32m559\u001b[39m     result = \u001b[43m{\u001b[49m\u001b[43mnode\u001b[49m\u001b[43m \u001b[49m\u001b[38;5;28;43;01mfor\u001b[39;49;00m\u001b[43m \u001b[49m\u001b[43mnode\u001b[49m\u001b[43m \u001b[49m\u001b[38;5;129;43;01min\u001b[39;49;00m\u001b[43m \u001b[49m\u001b[43mnodes\u001b[49m\u001b[43m \u001b[49m\u001b[38;5;28;43;01mif\u001b[39;49;00m\u001b[43m \u001b[49m\u001b[38;5;28;43misinstance\u001b[39;49m\u001b[43m(\u001b[49m\u001b[43mnode\u001b[49m\u001b[43m,\u001b[49m\u001b[43m \u001b[49m\u001b[43mtypes\u001b[49m\u001b[43m)\u001b[49m\u001b[43m}\u001b[49m\n\u001b[32m    560\u001b[39m \u001b[38;5;28;01melse\u001b[39;00m:\n\u001b[32m    561\u001b[39m     result = {node \u001b[38;5;28;01mfor\u001b[39;00m node \u001b[38;5;129;01min\u001b[39;00m nodes \u001b[38;5;28;01mif\u001b[39;00m \u001b[38;5;129;01mnot\u001b[39;00m node.args}\n",
      "\u001b[36mFile \u001b[39m\u001b[32m~\\AppData\\Local\\Packages\\PythonSoftwareFoundation.Python.3.11_qbz5n2kfra8p0\\LocalCache\\local-packages\\Python311\\site-packages\\sympy\\core\\basic.py:559\u001b[39m, in \u001b[36m<setcomp>\u001b[39m\u001b[34m(.0)\u001b[39m\n\u001b[32m    557\u001b[39m nodes = _preorder_traversal(\u001b[38;5;28mself\u001b[39m)\n\u001b[32m    558\u001b[39m \u001b[38;5;28;01mif\u001b[39;00m types:\n\u001b[32m--> \u001b[39m\u001b[32m559\u001b[39m     result = \u001b[43m{\u001b[49m\u001b[43mnode\u001b[49m\u001b[43m \u001b[49m\u001b[38;5;28;43;01mfor\u001b[39;49;00m\u001b[43m \u001b[49m\u001b[43mnode\u001b[49m\u001b[43m \u001b[49m\u001b[38;5;129;43;01min\u001b[39;49;00m\u001b[43m \u001b[49m\u001b[43mnodes\u001b[49m\u001b[43m \u001b[49m\u001b[38;5;28;43;01mif\u001b[39;49;00m\u001b[43m \u001b[49m\u001b[38;5;28;43misinstance\u001b[39;49m\u001b[43m(\u001b[49m\u001b[43mnode\u001b[49m\u001b[43m,\u001b[49m\u001b[43m \u001b[49m\u001b[43mtypes\u001b[49m\u001b[43m)\u001b[49m\u001b[43m}\u001b[49m\n\u001b[32m    560\u001b[39m \u001b[38;5;28;01melse\u001b[39;00m:\n\u001b[32m    561\u001b[39m     result = {node \u001b[38;5;28;01mfor\u001b[39;00m node \u001b[38;5;129;01min\u001b[39;00m nodes \u001b[38;5;28;01mif\u001b[39;00m \u001b[38;5;129;01mnot\u001b[39;00m node.args}\n",
      "\u001b[36mFile \u001b[39m\u001b[32m~\\AppData\\Local\\Packages\\PythonSoftwareFoundation.Python.3.11_qbz5n2kfra8p0\\LocalCache\\local-packages\\Python311\\site-packages\\sympy\\core\\traversal.py:163\u001b[39m, in \u001b[36mpreorder_traversal.__next__\u001b[39m\u001b[34m(self)\u001b[39m\n\u001b[32m    162\u001b[39m \u001b[38;5;28;01mdef\u001b[39;00m\u001b[38;5;250m \u001b[39m\u001b[34m__next__\u001b[39m(\u001b[38;5;28mself\u001b[39m):\n\u001b[32m--> \u001b[39m\u001b[32m163\u001b[39m     \u001b[38;5;28;01mreturn\u001b[39;00m \u001b[38;5;28mnext\u001b[39m(\u001b[38;5;28mself\u001b[39m._pt)\n",
      "\u001b[36mFile \u001b[39m\u001b[32m~\\AppData\\Local\\Packages\\PythonSoftwareFoundation.Python.3.11_qbz5n2kfra8p0\\LocalCache\\local-packages\\Python311\\site-packages\\sympy\\core\\traversal.py:137\u001b[39m, in \u001b[36mpreorder_traversal._preorder_traversal\u001b[39m\u001b[34m(self, node, keys)\u001b[39m\n\u001b[32m    135\u001b[39m             args = ordered(args)\n\u001b[32m    136\u001b[39m     \u001b[38;5;28;01mfor\u001b[39;00m arg \u001b[38;5;129;01min\u001b[39;00m args:\n\u001b[32m--> \u001b[39m\u001b[32m137\u001b[39m         \u001b[38;5;28;01myield from\u001b[39;00m \u001b[38;5;28mself\u001b[39m._preorder_traversal(arg, keys)\n\u001b[32m    138\u001b[39m \u001b[38;5;28;01melif\u001b[39;00m iterable(node):\n\u001b[32m    139\u001b[39m     \u001b[38;5;28;01mfor\u001b[39;00m item \u001b[38;5;129;01min\u001b[39;00m node:\n",
      "\u001b[36mFile \u001b[39m\u001b[32m~\\AppData\\Local\\Packages\\PythonSoftwareFoundation.Python.3.11_qbz5n2kfra8p0\\LocalCache\\local-packages\\Python311\\site-packages\\sympy\\core\\traversal.py:137\u001b[39m, in \u001b[36mpreorder_traversal._preorder_traversal\u001b[39m\u001b[34m(self, node, keys)\u001b[39m\n\u001b[32m    135\u001b[39m             args = ordered(args)\n\u001b[32m    136\u001b[39m     \u001b[38;5;28;01mfor\u001b[39;00m arg \u001b[38;5;129;01min\u001b[39;00m args:\n\u001b[32m--> \u001b[39m\u001b[32m137\u001b[39m         \u001b[38;5;28;01myield from\u001b[39;00m \u001b[38;5;28mself\u001b[39m._preorder_traversal(arg, keys)\n\u001b[32m    138\u001b[39m \u001b[38;5;28;01melif\u001b[39;00m iterable(node):\n\u001b[32m    139\u001b[39m     \u001b[38;5;28;01mfor\u001b[39;00m item \u001b[38;5;129;01min\u001b[39;00m node:\n",
      "    \u001b[31m[... skipping similar frames: preorder_traversal._preorder_traversal at line 137 (10 times)]\u001b[39m\n",
      "\u001b[36mFile \u001b[39m\u001b[32m~\\AppData\\Local\\Packages\\PythonSoftwareFoundation.Python.3.11_qbz5n2kfra8p0\\LocalCache\\local-packages\\Python311\\site-packages\\sympy\\core\\traversal.py:137\u001b[39m, in \u001b[36mpreorder_traversal._preorder_traversal\u001b[39m\u001b[34m(self, node, keys)\u001b[39m\n\u001b[32m    135\u001b[39m             args = ordered(args)\n\u001b[32m    136\u001b[39m     \u001b[38;5;28;01mfor\u001b[39;00m arg \u001b[38;5;129;01min\u001b[39;00m args:\n\u001b[32m--> \u001b[39m\u001b[32m137\u001b[39m         \u001b[38;5;28;01myield from\u001b[39;00m \u001b[38;5;28mself\u001b[39m._preorder_traversal(arg, keys)\n\u001b[32m    138\u001b[39m \u001b[38;5;28;01melif\u001b[39;00m iterable(node):\n\u001b[32m    139\u001b[39m     \u001b[38;5;28;01mfor\u001b[39;00m item \u001b[38;5;129;01min\u001b[39;00m node:\n",
      "\u001b[36mFile \u001b[39m\u001b[32m~\\AppData\\Local\\Packages\\PythonSoftwareFoundation.Python.3.11_qbz5n2kfra8p0\\LocalCache\\local-packages\\Python311\\site-packages\\sympy\\core\\traversal.py:125\u001b[39m, in \u001b[36mpreorder_traversal._preorder_traversal\u001b[39m\u001b[34m(self, node, keys)\u001b[39m\n\u001b[32m    123\u001b[39m     \u001b[38;5;28;01mreturn\u001b[39;00m\n\u001b[32m    124\u001b[39m \u001b[38;5;28;01mif\u001b[39;00m \u001b[38;5;28misinstance\u001b[39m(node, Basic):\n\u001b[32m--> \u001b[39m\u001b[32m125\u001b[39m     \u001b[38;5;28;01mif\u001b[39;00m \u001b[38;5;129;01mnot\u001b[39;00m keys \u001b[38;5;129;01mand\u001b[39;00m \u001b[38;5;28mhasattr\u001b[39m(node, \u001b[33m'\u001b[39m\u001b[33m_argset\u001b[39m\u001b[33m'\u001b[39m):\n\u001b[32m    126\u001b[39m         \u001b[38;5;66;03m# LatticeOp keeps args as a set. We should use this if we\u001b[39;00m\n\u001b[32m    127\u001b[39m         \u001b[38;5;66;03m# don't care about the order, to prevent unnecessary sorting.\u001b[39;00m\n\u001b[32m    128\u001b[39m         args = node._argset\n\u001b[32m    129\u001b[39m     \u001b[38;5;28;01melse\u001b[39;00m:\n",
      "\u001b[31mKeyboardInterrupt\u001b[39m: "
     ]
    }
   ],
   "source": [
    "td_eff = td - dp * dir / 2\n",
    "\n",
    "# eqns\n",
    "pang_eqn = sp.Eq(thp, pang_int)\n",
    "dang_eqn = sp.Eq(thd, td_eff / r)\n",
    "display(pang_eqn)\n",
    "display(dang_eqn)\n",
    "\n",
    "sol = sp.solve([pang_eqn, dang_eqn], (tp, td))\n",
    "for val in sol:\n",
    "    display(val[0])\n",
    "    display(val[1])"
   ]
  },
  {
   "cell_type": "code",
   "execution_count": null,
   "metadata": {},
   "outputs": [],
   "source": [
    "# phi_s = sp.symbols(r'\\phi_s')\n",
    "# tdconst = lp + sp.cos(phi_s) * tp ## 구속길이\n",
    "# kda_pr = td / (2 * r * tdconst)\n",
    "# kd1_pr = alp * kda_pr\n",
    "# kd_pr = 2 * (kda_pr - kd1_pr) * s / (ld + sp.cos(phi_s) * td) + kd1_pr\n",
    "\n",
    "# kpa = tp / (lp * r)\n",
    "# kp1 = alp * kpa\n",
    "# kp = 2 * (kpa - kp1) * s / lp + kp1\n",
    "# kp_off = kp * lp / tdconst\n",
    "# # proximal tendon 곡률\n",
    "# k_pr_tendon = kp_off + kd_pr\n",
    "\n",
    "# #prox. angle\n",
    "# thp_int = sp.integrate(k_pr_tendon, (s, 0, tdconst))\n",
    "# dp = thp_int * r * 2\n",
    "# display(dp)"
   ]
  },
  {
   "cell_type": "code",
   "execution_count": null,
   "metadata": {},
   "outputs": [],
   "source": [
    "display(sp.sign(90 * -90))"
   ]
  },
  {
   "cell_type": "code",
   "execution_count": null,
   "metadata": {},
   "outputs": [],
   "source": [
    "# efftp = tp + sp.Rational(1,2) * dp\n",
    "# efftd = ld - 2 * lp - sp.Rational(1,2) * dp + tp\n",
    "\n",
    "# tpeqn = efftp / r - thp\n",
    "# tdeqn = efftd / r - thd\n",
    "\n",
    "# sol = sp.solve([tpeqn, tdeqn], (tp, td))\n",
    "# # Display the solution\n",
    "# display(sol[tp])\n",
    "# display(sol[td])"
   ]
  },
  {
   "cell_type": "code",
   "execution_count": null,
   "metadata": {},
   "outputs": [],
   "source": [
    "\n"
   ]
  }
 ],
 "metadata": {
  "kernelspec": {
   "display_name": "Python 3",
   "language": "python",
   "name": "python3"
  },
  "language_info": {
   "codemirror_mode": {
    "name": "ipython",
    "version": 3
   },
   "file_extension": ".py",
   "mimetype": "text/x-python",
   "name": "python",
   "nbconvert_exporter": "python",
   "pygments_lexer": "ipython3",
   "version": "3.11.9"
  }
 },
 "nbformat": 4,
 "nbformat_minor": 2
}
