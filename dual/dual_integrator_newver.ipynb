{
 "cells": [
  {
   "cell_type": "code",
   "execution_count": 1,
   "metadata": {},
   "outputs": [],
   "source": [
    "import sympy as sp\n",
    "thp, thd, tp, td, lp, ld, alp, r, s = sp.symbols(r'\\theta_p \\theta_d t_p t_d l_p l_d \\alpha r s')\n"
   ]
  },
  {
   "cell_type": "code",
   "execution_count": 2,
   "metadata": {},
   "outputs": [],
   "source": [
    "kda = td / (ld * r)\n",
    "kd1 = alp * kda"
   ]
  },
  {
   "cell_type": "code",
   "execution_count": 3,
   "metadata": {},
   "outputs": [
    {
     "data": {
      "text/latex": [
       "$\\displaystyle \\frac{t_{d} \\left(\\alpha l_{d} - 2 s \\left(\\alpha - 1\\right)\\right)}{l_{d}^{2} r}$"
      ],
      "text/plain": [
       "t_d*(\\alpha*l_d - 2*s*(\\alpha - 1))/(l_d**2*r)"
      ]
     },
     "metadata": {},
     "output_type": "display_data"
    }
   ],
   "source": [
    "kd = 2 * (kda - kd1) * s / ld + kd1\n",
    "display(sp.simplify(kd))"
   ]
  },
  {
   "cell_type": "code",
   "execution_count": 4,
   "metadata": {},
   "outputs": [
    {
     "data": {
      "text/latex": [
       "$\\displaystyle \\frac{t_{d} \\left(- \\alpha l_{d} l_{p} + l_{d}^{2} + l_{p}^{2} \\left(\\alpha - 1\\right)\\right)}{l_{d}^{2} r}$"
      ],
      "text/plain": [
       "t_d*(-\\alpha*l_d*l_p + l_d**2 + l_p**2*(\\alpha - 1))/(l_d**2*r)"
      ]
     },
     "metadata": {},
     "output_type": "display_data"
    }
   ],
   "source": [
    "thdint = sp.integrate(kd, (s, lp, ld))\n",
    "display(sp.simplify(thdint))"
   ]
  },
  {
   "cell_type": "code",
   "execution_count": 5,
   "metadata": {},
   "outputs": [],
   "source": [
    "thdeqn = thdint - thd\n",
    "# tdsol = sp.solve(thdeqn, td)[0]\n",
    "# display(tdsol)"
   ]
  },
  {
   "cell_type": "code",
   "execution_count": 6,
   "metadata": {},
   "outputs": [
    {
     "data": {
      "text/latex": [
       "$\\displaystyle \\frac{\\alpha l_{d}^{2} l_{p} t_{p} + \\frac{\\alpha l_{d} l_{p}^{2} t_{d}}{2} - 2 l_{d}^{2} s t_{p} \\left(\\alpha - 1\\right) - l_{p}^{2} s t_{d} \\left(\\alpha - 1\\right)}{l_{d}^{2} l_{p}^{2} r}$"
      ],
      "text/plain": [
       "(\\alpha*l_d**2*l_p*t_p + \\alpha*l_d*l_p**2*t_d/2 - 2*l_d**2*s*t_p*(\\alpha - 1) - l_p**2*s*t_d*(\\alpha - 1))/(l_d**2*l_p**2*r)"
      ]
     },
     "metadata": {},
     "output_type": "display_data"
    }
   ],
   "source": [
    "kpa = tp / (lp * r)\n",
    "kp1 = alp * kpa\n",
    "kp = 2 * (kpa - kp1) * s / lp + kp1\n",
    "\n",
    "kptot = kd/2 + kp\n",
    "display(sp.simplify(kptot))"
   ]
  },
  {
   "cell_type": "code",
   "execution_count": 7,
   "metadata": {},
   "outputs": [
    {
     "data": {
      "text/latex": [
       "$\\displaystyle \\frac{\\alpha l_{d} l_{p} t_{d} - \\alpha l_{p}^{2} t_{d} + 2 l_{d}^{2} t_{p} + l_{p}^{2} t_{d}}{2 l_{d}^{2} r}$"
      ],
      "text/plain": [
       "(\\alpha*l_d*l_p*t_d - \\alpha*l_p**2*t_d + 2*l_d**2*t_p + l_p**2*t_d)/(2*l_d**2*r)"
      ]
     },
     "metadata": {},
     "output_type": "display_data"
    }
   ],
   "source": [
    "kpint = sp.integrate(kptot, (s, 0, lp))\n",
    "display(sp.simplify(kpint))\n",
    "\n",
    "thpeqn = kpint - thp\n",
    "# tpsol = sp.solve(thpeqn, tp)[0]\n",
    "# display(tpsol)\n",
    "\n",
    "## to be cont'd"
   ]
  },
  {
   "cell_type": "code",
   "execution_count": 8,
   "metadata": {},
   "outputs": [],
   "source": [
    "# tp_withtd = tpsol.subs(td, tdsol)\n",
    "# tp_withtd_simple = sp.simplify(tp_withtd)\n",
    "# display(tp_withtd_simple)\n",
    "# tpsimple_frac = sp.fraction(tp_withtd_simple)\n",
    "# display(tpsimple_frac[0].simplify())\n",
    "# display(tpsimple_frac[1].simplify())\n"
   ]
  },
  {
   "cell_type": "code",
   "execution_count": 9,
   "metadata": {},
   "outputs": [
    {
     "data": {
      "text/latex": [
       "$\\displaystyle \\frac{r \\left(\\alpha \\theta_{d} l_{d} l_{p} - \\alpha \\theta_{d} l_{p}^{2} + 2 \\alpha \\theta_{p} l_{d} l_{p} - 2 \\alpha \\theta_{p} l_{p}^{2} + \\theta_{d} l_{p}^{2} - 2 \\theta_{p} l_{d}^{2} + 2 \\theta_{p} l_{p}^{2}\\right)}{2 \\left(\\alpha l_{d} l_{p} - \\alpha l_{p}^{2} - l_{d}^{2} + l_{p}^{2}\\right)}$"
      ],
      "text/plain": [
       "r*(\\alpha*\\theta_d*l_d*l_p - \\alpha*\\theta_d*l_p**2 + 2*\\alpha*\\theta_p*l_d*l_p - 2*\\alpha*\\theta_p*l_p**2 + \\theta_d*l_p**2 - 2*\\theta_p*l_d**2 + 2*\\theta_p*l_p**2)/(2*(\\alpha*l_d*l_p - \\alpha*l_p**2 - l_d**2 + l_p**2))"
      ]
     },
     "metadata": {},
     "output_type": "display_data"
    },
    {
     "data": {
      "text/latex": [
       "$\\displaystyle - \\frac{\\theta_{d} l_{d}^{2} r}{\\alpha l_{d} l_{p} - \\alpha l_{p}^{2} - l_{d}^{2} + l_{p}^{2}}$"
      ],
      "text/plain": [
       "-\\theta_d*l_d**2*r/(\\alpha*l_d*l_p - \\alpha*l_p**2 - l_d**2 + l_p**2)"
      ]
     },
     "metadata": {},
     "output_type": "display_data"
    }
   ],
   "source": [
    "tdlsol_new = sp.solve((thdeqn, thpeqn),('t_p','t_d'))\n",
    "display(sp.simplify(tdlsol_new[tp]))\n",
    "display(sp.simplify(tdlsol_new[td]))"
   ]
  }
 ],
 "metadata": {
  "kernelspec": {
   "display_name": "Python 3",
   "language": "python",
   "name": "python3"
  },
  "language_info": {
   "codemirror_mode": {
    "name": "ipython",
    "version": 3
   },
   "file_extension": ".py",
   "mimetype": "text/x-python",
   "name": "python",
   "nbconvert_exporter": "python",
   "pygments_lexer": "ipython3",
   "version": "3.11.9"
  }
 },
 "nbformat": 4,
 "nbformat_minor": 2
}
