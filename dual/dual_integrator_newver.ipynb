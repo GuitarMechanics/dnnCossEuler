{
 "cells": [
  {
   "cell_type": "code",
   "execution_count": null,
   "metadata": {},
   "outputs": [],
   "source": [
    "import sympy as sp\n",
    "thp, thd, tp, td, lp, ld, alp, r, s = sp.symbols(r'\\theta_p \\theta_d t_p t_d l_p l_d \\alpha r s')\n"
   ]
  },
  {
   "cell_type": "code",
   "execution_count": null,
   "metadata": {},
   "outputs": [],
   "source": [
    "## 1. distal actuation, no tendons on the proximal\n",
    "kda = td / (ld * r)\n",
    "kd1 = alp * kda\n",
    "kd = 2 * (kda - kd1) * s / ld + kd1\n",
    "\n",
    "kpa = tp / (lp * r)\n",
    "kp1 = alp * kpa\n",
    "kp = 2 * (kpa - kp1) * s / lp + kp1"
   ]
  },
  {
   "cell_type": "markdown",
   "metadata": {},
   "source": [
    "듀얼벤딩 해석\n",
    "- Distal 텐던 구동시 distal tendon에 의해 발생한 proximal angle 변화를 계산\n",
    "\n",
    "- 동시에, proximal tendon의 길이 차분을 계산, 오프셋 부여\n",
    "\n",
    "이후 목표 proximal tendon의 구동에 따른 proximal, distal angle의 차분을 계산\n",
    "\n",
    "연립방정식으로 풀기"
   ]
  },
  {
   "cell_type": "markdown",
   "metadata": {},
   "source": [
    "Distal tendon 구동에 의한 proximal tendon 길이 차분\n",
    "\n",
    "힘줄의 길이 변화 $l_i - l'_i = r \\kappa l_i$가 됨을 이용"
   ]
  },
  {
   "cell_type": "code",
   "execution_count": null,
   "metadata": {},
   "outputs": [],
   "source": [
    "# proximal tendon 각도 및 길이 차분\n",
    "# thp_d = sp.integrate(kd, (s, 0, lp))\n",
    "# dp = thp_d * r\n",
    "# dd = sp.integrate(kd, (s, lp, ld)) * r\n",
    "# display(thp_d)\n",
    "# display(dp)\n",
    "# dp = (ld - td) * (lp / ld)\n",
    "# dd = (ld - td) - dp\n",
    "dp = sp.integrate(r * kd, (s, 0, lp))\n",
    "dd = sp.integrate(r * kd, (s, lp, ld))\n",
    "display(dp)\n",
    "display(dd)\n",
    "\n",
    "#check\n",
    "display(sp.integrate(r * kd, (s, 0, ld)))\n",
    "display(dp + dd)"
   ]
  },
  {
   "cell_type": "markdown",
   "metadata": {},
   "source": [
    "2가지 경우 // 수정중\n",
    "1. 동일방향으로 prox. tendon 추가구동시: l_p + tp가 구속조건이 됨\n",
    "2. 반대방향으로 prox. tendon 추가구동시: l_p - tp가 구속조건이 됨\n",
    "\n",
    "dist.tendon은 각 segment에서 미치는 영향력이 다름\n",
    "\n",
    "prox seg에서는 prox tendon 구속에 의해 반지름 2r에 백본길이가 구속길이와 같아짐\n",
    "\n",
    "dist seg에서는 prox seg에서 발생한 tendon 길이 차분에 의해 다소 변동이 발생\n",
    "\n",
    "Case 해석\n",
    "1. 동일방향\n",
    "Prox. tendon만 구동했을 때 늘어난 쪽 tendon의 곡률:\n",
    "\n",
    "$\\kappa_{p,out} = \\kappa_p \\frac{l_p}{l_p+t_p}$\n",
    "\n",
    "곡률반경의 닮음비를 이용하여 계산가능함\n",
    "\n",
    "이 상태에서 디스탈을 구동\n",
    "\n",
    "유효 백본 길이는 $l_d + t_p$가 된 상태\n",
    "\n",
    "distal에 의한 곡률 형성: 평균곡률 먼저 구하기\n",
    "\n",
    "$\\kappa_{avg, d} = \\begin{cases}\n",
    "                    \\frac{t_d}{2r(l_d+t_p)} (0 \\le s \\le l_p + t_p) \\\\\n",
    "                    \\frac{t_d}{r(l_d+t_p)}  (l_p + t_p \\le s \\le l_d + t_p)\\\\ \n",
    "                    \\end{cases}$\n",
    "\n",
    "이걸 가지고 prox 구속텐던의 곡률을 얻는다 >> 곡률 기반으로 구속안된쪽이 얼마나 수축한지를 구한다 >> 전체 길이에서 이거 빼고 디스털 구동 빼면 디스털 세그먼트 텐던 길이가 나옴 >> 디스털 길이에서 이걸 빼면 유효 디스털 TDL이 나온다\n",
    "\n",
    "대충 $\\cos(\\phi_s)$ 이런식으로 일반화하면 될 듯 하다"
   ]
  },
  {
   "cell_type": "code",
   "execution_count": null,
   "metadata": {},
   "outputs": [
    {
     "data": {
      "text/latex": [
       "$\\displaystyle \\frac{\\left(l_{p} + t_{p} \\cos{\\left(\\phi_{s} \\right)}\\right)^{2} \\left(- \\alpha l_{p} t_{d} - 2 \\alpha l_{p} t_{p} - 2 \\alpha t_{p}^{2} \\cos{\\left(\\phi_{s} \\right)} + l_{p} t_{d} + 2 l_{p} t_{p} + 2 t_{p}^{2} \\cos{\\left(\\phi_{s} \\right)}\\right)}{2 l_{p}^{3} r + 4 l_{p}^{2} r t_{p} \\cos{\\left(\\phi_{s} \\right)} + 2 l_{p} r t_{p}^{2} \\cos^{2}{\\left(\\phi_{s} \\right)}} + \\frac{\\left(l_{p} + t_{p} \\cos{\\left(\\phi_{s} \\right)}\\right) \\left(\\alpha t_{d} + 2 \\alpha t_{p}\\right)}{2 l_{p} r + 2 r t_{p} \\cos{\\left(\\phi_{s} \\right)}}$"
      ],
      "text/plain": [
       "(l_p + t_p*cos(\\phi_s))**2*(-\\alpha*l_p*t_d - 2*\\alpha*l_p*t_p - 2*\\alpha*t_p**2*cos(\\phi_s) + l_p*t_d + 2*l_p*t_p + 2*t_p**2*cos(\\phi_s))/(2*l_p**3*r + 4*l_p**2*r*t_p*cos(\\phi_s) + 2*l_p*r*t_p**2*cos(\\phi_s)**2) + (l_p + t_p*cos(\\phi_s))*(\\alpha*t_d + 2*\\alpha*t_p)/(2*l_p*r + 2*r*t_p*cos(\\phi_s))"
      ]
     },
     "metadata": {},
     "output_type": "display_data"
    },
    {
     "data": {
      "text/latex": [
       "$\\displaystyle \\theta_{p} = \\frac{\\left(l_{p} + t_{p} \\cos{\\left(\\phi_{s} \\right)}\\right)^{2} \\left(- \\alpha l_{p} t_{d} - 2 \\alpha l_{p} t_{p} - 2 \\alpha t_{p}^{2} \\cos{\\left(\\phi_{s} \\right)} + l_{p} t_{d} + 2 l_{p} t_{p} + 2 t_{p}^{2} \\cos{\\left(\\phi_{s} \\right)}\\right)}{2 l_{p}^{3} r + 4 l_{p}^{2} r t_{p} \\cos{\\left(\\phi_{s} \\right)} + 2 l_{p} r t_{p}^{2} \\cos^{2}{\\left(\\phi_{s} \\right)}} + \\frac{\\left(l_{p} + t_{p} \\cos{\\left(\\phi_{s} \\right)}\\right) \\left(\\alpha t_{d} + 2 \\alpha t_{p}\\right)}{2 l_{p} r + 2 r t_{p} \\cos{\\left(\\phi_{s} \\right)}}$"
      ],
      "text/plain": [
       "Eq(\\theta_p, (l_p + t_p*cos(\\phi_s))**2*(-\\alpha*l_p*t_d - 2*\\alpha*l_p*t_p - 2*\\alpha*t_p**2*cos(\\phi_s) + l_p*t_d + 2*l_p*t_p + 2*t_p**2*cos(\\phi_s))/(2*l_p**3*r + 4*l_p**2*r*t_p*cos(\\phi_s) + 2*l_p*r*t_p**2*cos(\\phi_s)**2) + (l_p + t_p*cos(\\phi_s))*(\\alpha*t_d + 2*\\alpha*t_p)/(2*l_p*r + 2*r*t_p*cos(\\phi_s)))"
      ]
     },
     "metadata": {},
     "output_type": "display_data"
    },
    {
     "data": {
      "text/latex": [
       "$\\displaystyle \\theta_{d} = \\frac{- 2 r \\left(\\frac{\\left(l_{p} + t_{p} \\cos{\\left(\\phi_{s} \\right)}\\right)^{2} \\left(- \\alpha l_{p} t_{d} - 2 \\alpha l_{p} t_{p} - 2 \\alpha t_{p}^{2} \\cos{\\left(\\phi_{s} \\right)} + l_{p} t_{d} + 2 l_{p} t_{p} + 2 t_{p}^{2} \\cos{\\left(\\phi_{s} \\right)}\\right)}{2 l_{p}^{3} r + 4 l_{p}^{2} r t_{p} \\cos{\\left(\\phi_{s} \\right)} + 2 l_{p} r t_{p}^{2} \\cos^{2}{\\left(\\phi_{s} \\right)}} + \\frac{\\left(l_{p} + t_{p} \\cos{\\left(\\phi_{s} \\right)}\\right) \\left(\\alpha t_{d} + 2 \\alpha t_{p}\\right)}{2 l_{p} r + 2 r t_{p} \\cos{\\left(\\phi_{s} \\right)}}\\right) \\cos{\\left(\\phi_{s} \\right)} - r \\left(\\frac{\\left(l_{p} + t_{p} \\cos{\\left(\\phi_{s} \\right)}\\right)^{2} \\left(- \\alpha l_{p} t_{d} - 2 \\alpha l_{p} t_{p} - 2 \\alpha t_{p}^{2} \\cos{\\left(\\phi_{s} \\right)} + l_{p} t_{d} + 2 l_{p} t_{p} + 2 t_{p}^{2} \\cos{\\left(\\phi_{s} \\right)}\\right)}{2 l_{p}^{3} r + 4 l_{p}^{2} r t_{p} \\cos{\\left(\\phi_{s} \\right)} + 2 l_{p} r t_{p}^{2} \\cos^{2}{\\left(\\phi_{s} \\right)}} + \\frac{\\left(l_{p} + t_{p} \\cos{\\left(\\phi_{s} \\right)}\\right) \\left(\\alpha t_{d} + 2 \\alpha t_{p}\\right)}{2 l_{p} r + 2 r t_{p} \\cos{\\left(\\phi_{s} \\right)}}\\right) + t_{d}}{r}$"
      ],
      "text/plain": [
       "Eq(\\theta_d, (-2*r*((l_p + t_p*cos(\\phi_s))**2*(-\\alpha*l_p*t_d - 2*\\alpha*l_p*t_p - 2*\\alpha*t_p**2*cos(\\phi_s) + l_p*t_d + 2*l_p*t_p + 2*t_p**2*cos(\\phi_s))/(2*l_p**3*r + 4*l_p**2*r*t_p*cos(\\phi_s) + 2*l_p*r*t_p**2*cos(\\phi_s)**2) + (l_p + t_p*cos(\\phi_s))*(\\alpha*t_d + 2*\\alpha*t_p)/(2*l_p*r + 2*r*t_p*cos(\\phi_s)))*cos(\\phi_s) - r*((l_p + t_p*cos(\\phi_s))**2*(-\\alpha*l_p*t_d - 2*\\alpha*l_p*t_p - 2*\\alpha*t_p**2*cos(\\phi_s) + l_p*t_d + 2*l_p*t_p + 2*t_p**2*cos(\\phi_s))/(2*l_p**3*r + 4*l_p**2*r*t_p*cos(\\phi_s) + 2*l_p*r*t_p**2*cos(\\phi_s)**2) + (l_p + t_p*cos(\\phi_s))*(\\alpha*t_d + 2*\\alpha*t_p)/(2*l_p*r + 2*r*t_p*cos(\\phi_s))) + t_d)/r)"
      ]
     },
     "metadata": {},
     "output_type": "display_data"
    },
    {
     "ename": "TypeError",
     "evalue": "list indices must be integers or slices, not Symbol",
     "output_type": "error",
     "traceback": [
      "\u001b[0;31m---------------------------------------------------------------------------\u001b[0m",
      "\u001b[0;31mTypeError\u001b[0m                                 Traceback (most recent call last)",
      "Cell \u001b[0;32mIn[84], line 33\u001b[0m\n\u001b[1;32m     29\u001b[0m display(dang_eqn)\n\u001b[1;32m     31\u001b[0m sol \u001b[38;5;241m=\u001b[39m sp\u001b[38;5;241m.\u001b[39msolve([pang_eqn, dang_eqn], (tp, td))\n\u001b[0;32m---> 33\u001b[0m display(\u001b[43msol\u001b[49m\u001b[43m[\u001b[49m\u001b[43mtp\u001b[49m\u001b[43m]\u001b[49m)\n",
      "\u001b[0;31mTypeError\u001b[0m: list indices must be integers or slices, not Symbol"
     ]
    }
   ],
   "source": [
    "# 일반화\n",
    "p_s = sp.symbols('\\phi_s')\n",
    "dir = sp.cos(p_s)\n",
    "tdconst = lp + tp * dir\n",
    "kda_pr = td / (2 * r * tdconst)\n",
    "kd1_pr = alp * kda_pr\n",
    "kd_pr = 2 * (kda_pr - kd1_pr) * s / tdconst + kd1_pr\n",
    "\n",
    "kpa = tp / (lp * r)\n",
    "kp1 = alp * kpa\n",
    "kp = 2 * (kpa - kp1) * s / lp + kp1\n",
    "kp_off = kp * (lp / tdconst)\n",
    "\n",
    "kp_sum = kd_pr + kp_off\n",
    "\n",
    "# proximal tendon 각도 = prox.seg 각도\n",
    "pang_int = sp.integrate(kp_sum, (s, 0, tdconst))\n",
    "display(pang_int)\n",
    "\n",
    "dp = 2 * r * pang_int\n",
    "prox_diff = r * pang_int # 중심축 길이 축소분\n",
    "\n",
    "td_eff = td - dp * dir - prox_diff\n",
    "\n",
    "# eqns\n",
    "pang_eqn = sp.Eq(thp, pang_int)\n",
    "dang_eqn = sp.Eq(thd, td_eff / r)\n",
    "display(pang_eqn)\n",
    "display(dang_eqn)\n",
    "\n",
    "sol = sp.solve([pang_eqn, dang_eqn], (tp, td))\n"
   ]
  },
  {
   "cell_type": "code",
   "execution_count": null,
   "metadata": {},
   "outputs": [
    {
     "data": {
      "text/latex": [
       "$\\displaystyle 2 r \\left(\\frac{\\left(l_{p} + t_{p} \\cos{\\left(\\phi_{s} \\right)}\\right)^{2} \\left(- 2 \\alpha l_{d} t_{p} - \\alpha l_{p} t_{d} - 2 \\alpha t_{d} t_{p} \\cos{\\left(\\phi_{s} \\right)} + 2 l_{d} t_{p} + l_{p} t_{d} + 2 t_{d} t_{p} \\cos{\\left(\\phi_{s} \\right)}\\right)}{2 l_{d} l_{p}^{2} r + 2 l_{d} l_{p} r t_{p} \\cos{\\left(\\phi_{s} \\right)} + 2 l_{p}^{2} r t_{d} \\cos{\\left(\\phi_{s} \\right)} + 2 l_{p} r t_{d} t_{p} \\cos^{2}{\\left(\\phi_{s} \\right)}} + \\frac{\\left(l_{p} + t_{p} \\cos{\\left(\\phi_{s} \\right)}\\right) \\left(\\alpha t_{d} + 2 \\alpha t_{p}\\right)}{2 l_{p} r + 2 r t_{p} \\cos{\\left(\\phi_{s} \\right)}}\\right)$"
      ],
      "text/plain": [
       "2*r*((l_p + t_p*cos(\\phi_s))**2*(-2*\\alpha*l_d*t_p - \\alpha*l_p*t_d - 2*\\alpha*t_d*t_p*cos(\\phi_s) + 2*l_d*t_p + l_p*t_d + 2*t_d*t_p*cos(\\phi_s))/(2*l_d*l_p**2*r + 2*l_d*l_p*r*t_p*cos(\\phi_s) + 2*l_p**2*r*t_d*cos(\\phi_s) + 2*l_p*r*t_d*t_p*cos(\\phi_s)**2) + (l_p + t_p*cos(\\phi_s))*(\\alpha*t_d + 2*\\alpha*t_p)/(2*l_p*r + 2*r*t_p*cos(\\phi_s)))"
      ]
     },
     "metadata": {},
     "output_type": "display_data"
    }
   ],
   "source": [
    "# phi_s = sp.symbols(r'\\phi_s')\n",
    "# tdconst = lp + sp.cos(phi_s) * tp ## 구속길이\n",
    "# kda_pr = td / (2 * r * tdconst)\n",
    "# kd1_pr = alp * kda_pr\n",
    "# kd_pr = 2 * (kda_pr - kd1_pr) * s / (ld + sp.cos(phi_s) * td) + kd1_pr\n",
    "\n",
    "# kpa = tp / (lp * r)\n",
    "# kp1 = alp * kpa\n",
    "# kp = 2 * (kpa - kp1) * s / lp + kp1\n",
    "# kp_off = kp * lp / tdconst\n",
    "# # proximal tendon 곡률\n",
    "# k_pr_tendon = kp_off + kd_pr\n",
    "\n",
    "# #prox. angle\n",
    "# thp_int = sp.integrate(k_pr_tendon, (s, 0, tdconst))\n",
    "# dp = thp_int * r * 2\n",
    "# display(dp)"
   ]
  },
  {
   "cell_type": "code",
   "execution_count": null,
   "metadata": {},
   "outputs": [],
   "source": [
    "display(sp.sign(90 * -90))"
   ]
  },
  {
   "cell_type": "code",
   "execution_count": null,
   "metadata": {},
   "outputs": [],
   "source": [
    "# efftp = tp + sp.Rational(1,2) * dp\n",
    "# efftd = ld - 2 * lp - sp.Rational(1,2) * dp + tp\n",
    "\n",
    "# tpeqn = efftp / r - thp\n",
    "# tdeqn = efftd / r - thd\n",
    "\n",
    "# sol = sp.solve([tpeqn, tdeqn], (tp, td))\n",
    "# # Display the solution\n",
    "# display(sol[tp])\n",
    "# display(sol[td])"
   ]
  },
  {
   "cell_type": "code",
   "execution_count": null,
   "metadata": {},
   "outputs": [],
   "source": [
    "\n"
   ]
  }
 ],
 "metadata": {
  "kernelspec": {
   "display_name": "Python 3",
   "language": "python",
   "name": "python3"
  },
  "language_info": {
   "codemirror_mode": {
    "name": "ipython",
    "version": 3
   },
   "file_extension": ".py",
   "mimetype": "text/x-python",
   "name": "python",
   "nbconvert_exporter": "python",
   "pygments_lexer": "ipython3",
   "version": "3.10.12"
  }
 },
 "nbformat": 4,
 "nbformat_minor": 2
}
